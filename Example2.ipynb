{
 "cells": [
  {
   "cell_type": "markdown",
   "metadata": {},
   "source": [
    "Author: Adrian Swartz<br>\n",
    "Date: 3/29/2019\n",
    "\n",
    "\n",
    "# Solutions to Andew Ng's coursera problems\n",
    "## Example 2: Logistic Regression\n",
    "\n",
    "Andrew Ng's course is designed for the solutions to be worked through in Octave (similar to matlab). However, I am going to do these problems in python (within a jupyter notebook) and demonstrate how various approaches can be implemented in python.\n",
    "\n",
    "This notebook is structured as follows:<br>\n",
    "[Part 1 - Logistic Regression](#Part1)\n",
    "1. [Exploratory Data Analysis](#eda)\n",
    "2. [Developing Sigmoid, Cost, and Gradient Functions](#funcs)\n",
    "3. [Finding the Optimal Model Parameters](#opt)\n",
    "4. [Plotting the Decision Boundary](#plot)\n",
    "5. [Model Evaluation](#metrics)\n",
    "6. [Implementing Logistic Regression with sklearn](#sklearn)\n",
    "\n",
    "[Part 2 - Regularized Logistic Regression with Non-linear Features](#Part2)\n",
    "1. [Exploratory Data Analysis](#eda2)\n",
    "2. [Polynomial Feature Generation](#fg)\n",
    "3. [Adding Regularization to Cost and Gradient Functions](#reg)\n",
    "4. [Finding the Optimal Model Parameters](#opt2)\n",
    "5. [Non-linear Logistic Regression with sklearn](#sklearn2)\n",
    "6. [Tuning the Regularization Strength](#rs)\n",
    "7. [Polynomial Degree and Overfitting](#pdo)\n",
    "\n",
    "***\n",
    "\n",
    "For this exercise, we will import several python packages: NumPy (numerical python for matrix manupulations and advanced math), pandas (DataFrames offer a useful platform for importing data and performing exploratory data analysis), matplotlib and seaborn for data visualization."
   ]
  },
  {
   "cell_type": "code",
   "execution_count": 1,
   "metadata": {},
   "outputs": [],
   "source": [
    "# import standard packages\n",
    "import numpy as np\n",
    "import pandas as pd\n",
    "import matplotlib.pyplot as plt\n",
    "%matplotlib inline\n",
    "\n",
    "import seaborn as sns\n",
    "cp=sns.color_palette()\n",
    "\n",
    "# import a few special packages we'll use for this example\n",
    "\n",
    "import scipy.optimize as opt\n",
    "from sympy.solvers import solve\n",
    "from sympy import Symbol\n",
    "from sklearn.metrics import accuracy_score, f1_score, precision_score, recall_score\n",
    "from sklearn.metrics import confusion_matrix\n",
    "from sklearn.linear_model import LogisticRegression\n",
    "from sklearn.preprocessing import PolynomialFeatures"
   ]
  },
  {
   "cell_type": "markdown",
   "metadata": {},
   "source": [
    "<a id=\"Part1\"></a>\n",
    "# Part 1 - Logistic Regression\n",
    "\n",
    "Prompt:<br>\n",
    "Build a logistic regression model to predict whether a student gets admitted into a university.\n",
    "\n",
    "Suppose that you are the administrator of a university department and you want to determine each applicant’s chance of admission based on their results on two exams. You have historical data from previous applicants that you can use as a training set for logistic regression. For each training example, you have the applicant’s scores on two exams and the admissions decision.\n",
    "\n",
    "Your task is to build a classification model that estimates an applicant’s probability of admission based the scores from those two exams.\n",
    "\n",
    "***\n",
    "\n",
    "To be clear, this is not really a \"regression\" problem. But rather we are faced with a binary classification problem: accept or reject the studen't application. The twist is that we are asked to determine each applicant's chance (probability) of acceptance. For this type of problem, a logistic classifier is actually a regression (the sigmoid function) between two cases (0 or 1 - reject or accept) and the crossover between these two cases gives us the probability associated with acceptance.\n",
    "\n",
    "OK. Let's dive into the data and begin building the frameworks for logistic regression.\n",
    "\n",
    "<a id=\"eda\"></a>\n",
    "# Exploratory Data Analysis"
   ]
  },
  {
   "cell_type": "code",
   "execution_count": 2,
   "metadata": {},
   "outputs": [
    {
     "data": {
      "text/html": [
       "<div>\n",
       "<style scoped>\n",
       "    .dataframe tbody tr th:only-of-type {\n",
       "        vertical-align: middle;\n",
       "    }\n",
       "\n",
       "    .dataframe tbody tr th {\n",
       "        vertical-align: top;\n",
       "    }\n",
       "\n",
       "    .dataframe thead th {\n",
       "        text-align: right;\n",
       "    }\n",
       "</style>\n",
       "<table border=\"1\" class=\"dataframe\">\n",
       "  <thead>\n",
       "    <tr style=\"text-align: right;\">\n",
       "      <th></th>\n",
       "      <th>exam1</th>\n",
       "      <th>exam2</th>\n",
       "      <th>admitted</th>\n",
       "    </tr>\n",
       "  </thead>\n",
       "  <tbody>\n",
       "    <tr>\n",
       "      <th>0</th>\n",
       "      <td>34.623660</td>\n",
       "      <td>78.024693</td>\n",
       "      <td>0</td>\n",
       "    </tr>\n",
       "    <tr>\n",
       "      <th>1</th>\n",
       "      <td>30.286711</td>\n",
       "      <td>43.894998</td>\n",
       "      <td>0</td>\n",
       "    </tr>\n",
       "    <tr>\n",
       "      <th>2</th>\n",
       "      <td>35.847409</td>\n",
       "      <td>72.902198</td>\n",
       "      <td>0</td>\n",
       "    </tr>\n",
       "    <tr>\n",
       "      <th>3</th>\n",
       "      <td>60.182599</td>\n",
       "      <td>86.308552</td>\n",
       "      <td>1</td>\n",
       "    </tr>\n",
       "    <tr>\n",
       "      <th>4</th>\n",
       "      <td>79.032736</td>\n",
       "      <td>75.344376</td>\n",
       "      <td>1</td>\n",
       "    </tr>\n",
       "  </tbody>\n",
       "</table>\n",
       "</div>"
      ],
      "text/plain": [
       "       exam1      exam2  admitted\n",
       "0  34.623660  78.024693         0\n",
       "1  30.286711  43.894998         0\n",
       "2  35.847409  72.902198         0\n",
       "3  60.182599  86.308552         1\n",
       "4  79.032736  75.344376         1"
      ]
     },
     "execution_count": 2,
     "metadata": {},
     "output_type": "execute_result"
    }
   ],
   "source": [
    "#Load the data into a pandas DataFrame\n",
    "data = pd.read_csv('ex2/ex2data1.txt', header=None, names=['exam1', 'exam2', 'admitted'])\n",
    "data.head()"
   ]
  },
  {
   "cell_type": "code",
   "execution_count": 3,
   "metadata": {},
   "outputs": [
    {
     "name": "stdout",
     "output_type": "stream",
     "text": [
      "<class 'pandas.core.frame.DataFrame'>\n",
      "RangeIndex: 100 entries, 0 to 99\n",
      "Data columns (total 3 columns):\n",
      "exam1       100 non-null float64\n",
      "exam2       100 non-null float64\n",
      "admitted    100 non-null int64\n",
      "dtypes: float64(2), int64(1)\n",
      "memory usage: 2.4 KB\n"
     ]
    }
   ],
   "source": [
    "data.info()"
   ]
  },
  {
   "cell_type": "code",
   "execution_count": 4,
   "metadata": {},
   "outputs": [
    {
     "data": {
      "text/html": [
       "<div>\n",
       "<style scoped>\n",
       "    .dataframe tbody tr th:only-of-type {\n",
       "        vertical-align: middle;\n",
       "    }\n",
       "\n",
       "    .dataframe tbody tr th {\n",
       "        vertical-align: top;\n",
       "    }\n",
       "\n",
       "    .dataframe thead th {\n",
       "        text-align: right;\n",
       "    }\n",
       "</style>\n",
       "<table border=\"1\" class=\"dataframe\">\n",
       "  <thead>\n",
       "    <tr style=\"text-align: right;\">\n",
       "      <th></th>\n",
       "      <th>count</th>\n",
       "      <th>mean</th>\n",
       "      <th>std</th>\n",
       "      <th>min</th>\n",
       "      <th>25%</th>\n",
       "      <th>50%</th>\n",
       "      <th>75%</th>\n",
       "      <th>max</th>\n",
       "    </tr>\n",
       "  </thead>\n",
       "  <tbody>\n",
       "    <tr>\n",
       "      <th>exam1</th>\n",
       "      <td>100.0</td>\n",
       "      <td>65.644274</td>\n",
       "      <td>19.458222</td>\n",
       "      <td>30.058822</td>\n",
       "      <td>50.919511</td>\n",
       "      <td>67.032988</td>\n",
       "      <td>80.212529</td>\n",
       "      <td>99.827858</td>\n",
       "    </tr>\n",
       "    <tr>\n",
       "      <th>exam2</th>\n",
       "      <td>100.0</td>\n",
       "      <td>66.221998</td>\n",
       "      <td>18.582783</td>\n",
       "      <td>30.603263</td>\n",
       "      <td>48.179205</td>\n",
       "      <td>67.682381</td>\n",
       "      <td>79.360605</td>\n",
       "      <td>98.869436</td>\n",
       "    </tr>\n",
       "    <tr>\n",
       "      <th>admitted</th>\n",
       "      <td>100.0</td>\n",
       "      <td>0.600000</td>\n",
       "      <td>0.492366</td>\n",
       "      <td>0.000000</td>\n",
       "      <td>0.000000</td>\n",
       "      <td>1.000000</td>\n",
       "      <td>1.000000</td>\n",
       "      <td>1.000000</td>\n",
       "    </tr>\n",
       "  </tbody>\n",
       "</table>\n",
       "</div>"
      ],
      "text/plain": [
       "          count       mean        std        min        25%        50%  \\\n",
       "exam1     100.0  65.644274  19.458222  30.058822  50.919511  67.032988   \n",
       "exam2     100.0  66.221998  18.582783  30.603263  48.179205  67.682381   \n",
       "admitted  100.0   0.600000   0.492366   0.000000   0.000000   1.000000   \n",
       "\n",
       "                75%        max  \n",
       "exam1     80.212529  99.827858  \n",
       "exam2     79.360605  98.869436  \n",
       "admitted   1.000000   1.000000  "
      ]
     },
     "execution_count": 4,
     "metadata": {},
     "output_type": "execute_result"
    }
   ],
   "source": [
    "data.describe().T"
   ]
  },
  {
   "cell_type": "markdown",
   "metadata": {},
   "source": [
    "We can see that 60% of the students were accepted"
   ]
  },
  {
   "cell_type": "code",
   "execution_count": 5,
   "metadata": {},
   "outputs": [
    {
     "data": {
      "text/html": [
       "<div>\n",
       "<style scoped>\n",
       "    .dataframe tbody tr th:only-of-type {\n",
       "        vertical-align: middle;\n",
       "    }\n",
       "\n",
       "    .dataframe tbody tr th {\n",
       "        vertical-align: top;\n",
       "    }\n",
       "\n",
       "    .dataframe thead th {\n",
       "        text-align: right;\n",
       "    }\n",
       "</style>\n",
       "<table border=\"1\" class=\"dataframe\">\n",
       "  <thead>\n",
       "    <tr style=\"text-align: right;\">\n",
       "      <th></th>\n",
       "      <th>count</th>\n",
       "      <th>mean</th>\n",
       "      <th>std</th>\n",
       "      <th>min</th>\n",
       "      <th>25%</th>\n",
       "      <th>50%</th>\n",
       "      <th>75%</th>\n",
       "      <th>max</th>\n",
       "    </tr>\n",
       "  </thead>\n",
       "  <tbody>\n",
       "    <tr>\n",
       "      <th>exam1</th>\n",
       "      <td>40.0</td>\n",
       "      <td>52.032301</td>\n",
       "      <td>17.549050</td>\n",
       "      <td>30.058822</td>\n",
       "      <td>35.707085</td>\n",
       "      <td>50.410642</td>\n",
       "      <td>61.928323</td>\n",
       "      <td>95.861555</td>\n",
       "    </tr>\n",
       "    <tr>\n",
       "      <th>exam2</th>\n",
       "      <td>40.0</td>\n",
       "      <td>54.620392</td>\n",
       "      <td>16.081591</td>\n",
       "      <td>30.603263</td>\n",
       "      <td>42.808798</td>\n",
       "      <td>49.698756</td>\n",
       "      <td>63.594638</td>\n",
       "      <td>98.869436</td>\n",
       "    </tr>\n",
       "    <tr>\n",
       "      <th>admitted</th>\n",
       "      <td>40.0</td>\n",
       "      <td>0.000000</td>\n",
       "      <td>0.000000</td>\n",
       "      <td>0.000000</td>\n",
       "      <td>0.000000</td>\n",
       "      <td>0.000000</td>\n",
       "      <td>0.000000</td>\n",
       "      <td>0.000000</td>\n",
       "    </tr>\n",
       "  </tbody>\n",
       "</table>\n",
       "</div>"
      ],
      "text/plain": [
       "          count       mean        std        min        25%        50%  \\\n",
       "exam1      40.0  52.032301  17.549050  30.058822  35.707085  50.410642   \n",
       "exam2      40.0  54.620392  16.081591  30.603263  42.808798  49.698756   \n",
       "admitted   40.0   0.000000   0.000000   0.000000   0.000000   0.000000   \n",
       "\n",
       "                75%        max  \n",
       "exam1     61.928323  95.861555  \n",
       "exam2     63.594638  98.869436  \n",
       "admitted   0.000000   0.000000  "
      ]
     },
     "execution_count": 5,
     "metadata": {},
     "output_type": "execute_result"
    }
   ],
   "source": [
    "#use boolean masking to look separate data of accepted and rejected applicants\n",
    "data[data.admitted==0].describe().T"
   ]
  },
  {
   "cell_type": "code",
   "execution_count": 6,
   "metadata": {},
   "outputs": [
    {
     "data": {
      "text/html": [
       "<div>\n",
       "<style scoped>\n",
       "    .dataframe tbody tr th:only-of-type {\n",
       "        vertical-align: middle;\n",
       "    }\n",
       "\n",
       "    .dataframe tbody tr th {\n",
       "        vertical-align: top;\n",
       "    }\n",
       "\n",
       "    .dataframe thead th {\n",
       "        text-align: right;\n",
       "    }\n",
       "</style>\n",
       "<table border=\"1\" class=\"dataframe\">\n",
       "  <thead>\n",
       "    <tr style=\"text-align: right;\">\n",
       "      <th></th>\n",
       "      <th>count</th>\n",
       "      <th>mean</th>\n",
       "      <th>std</th>\n",
       "      <th>min</th>\n",
       "      <th>25%</th>\n",
       "      <th>50%</th>\n",
       "      <th>75%</th>\n",
       "      <th>max</th>\n",
       "    </tr>\n",
       "  </thead>\n",
       "  <tbody>\n",
       "    <tr>\n",
       "      <th>exam1</th>\n",
       "      <td>60.0</td>\n",
       "      <td>74.718923</td>\n",
       "      <td>14.912420</td>\n",
       "      <td>40.457551</td>\n",
       "      <td>63.597244</td>\n",
       "      <td>75.436657</td>\n",
       "      <td>84.675745</td>\n",
       "      <td>99.827858</td>\n",
       "    </tr>\n",
       "    <tr>\n",
       "      <th>exam2</th>\n",
       "      <td>60.0</td>\n",
       "      <td>73.956402</td>\n",
       "      <td>16.012403</td>\n",
       "      <td>43.390602</td>\n",
       "      <td>65.409676</td>\n",
       "      <td>74.753748</td>\n",
       "      <td>87.442625</td>\n",
       "      <td>97.718692</td>\n",
       "    </tr>\n",
       "    <tr>\n",
       "      <th>admitted</th>\n",
       "      <td>60.0</td>\n",
       "      <td>1.000000</td>\n",
       "      <td>0.000000</td>\n",
       "      <td>1.000000</td>\n",
       "      <td>1.000000</td>\n",
       "      <td>1.000000</td>\n",
       "      <td>1.000000</td>\n",
       "      <td>1.000000</td>\n",
       "    </tr>\n",
       "  </tbody>\n",
       "</table>\n",
       "</div>"
      ],
      "text/plain": [
       "          count       mean        std        min        25%        50%  \\\n",
       "exam1      60.0  74.718923  14.912420  40.457551  63.597244  75.436657   \n",
       "exam2      60.0  73.956402  16.012403  43.390602  65.409676  74.753748   \n",
       "admitted   60.0   1.000000   0.000000   1.000000   1.000000   1.000000   \n",
       "\n",
       "                75%        max  \n",
       "exam1     84.675745  99.827858  \n",
       "exam2     87.442625  97.718692  \n",
       "admitted   1.000000   1.000000  "
      ]
     },
     "execution_count": 6,
     "metadata": {},
     "output_type": "execute_result"
    }
   ],
   "source": [
    "#use boolean masking to look separate data of accepted and rejected applicants\n",
    "data[data.admitted==1].describe().T"
   ]
  },
  {
   "cell_type": "markdown",
   "metadata": {},
   "source": [
    "Not very shocking, but students who were accepted had on average, significantly higher exame scores."
   ]
  },
  {
   "cell_type": "code",
   "execution_count": 7,
   "metadata": {},
   "outputs": [
    {
     "data": {
      "text/plain": [
       "<seaborn.axisgrid.PairGrid at 0x1a1c88d6d8>"
      ]
     },
     "execution_count": 7,
     "metadata": {},
     "output_type": "execute_result"
    },
    {
     "data": {
      "image/png": "[encoded data removed]",
      "text/plain": [
       "<Figure size 540x540 with 12 Axes>"
      ]
     },
     "metadata": {
      "needs_background": "light"
     },
     "output_type": "display_data"
    }
   ],
   "source": [
    "sns.pairplot(data)"
   ]
  },
  {
   "cell_type": "markdown",
   "metadata": {},
   "source": [
    "That doesn't look as helpful does it? But actually, pay close attention to the exam1 vs. admitted scatter-plot. This looks almost exactly like a text book logistic regression problem. Let's look at the data a slightly different way"
   ]
  },
  {
   "cell_type": "code",
   "execution_count": 8,
   "metadata": {},
   "outputs": [],
   "source": [
    "accepted = data[data.admitted==1]\n",
    "rejected = data[data.admitted==0]"
   ]
  },
  {
   "cell_type": "code",
   "execution_count": 9,
   "metadata": {
    "scrolled": false
   },
   "outputs": [
    {
     "data": {
      "text/plain": [
       "<matplotlib.legend.Legend at 0x1a1cf41908>"
      ]
     },
     "execution_count": 9,
     "metadata": {},
     "output_type": "execute_result"
    },
    {
     "data": {
      "image/png": "[encoded data removed]",
      "text/plain": [
       "<Figure size 576x432 with 1 Axes>"
      ]
     },
     "metadata": {
      "needs_background": "light"
     },
     "output_type": "display_data"
    }
   ],
   "source": [
    "fig, ax = plt.subplots(figsize=(8,6))\n",
    "ax.scatter(accepted.exam1, accepted.admitted, s=50, color=cp[0], label='Admitted')\n",
    "ax.scatter(rejected.exam1, rejected.admitted, s=50, color=cp[3], marker='x', label='Rejected')\n",
    "ax.set_xlabel('Admitted or Rejected')\n",
    "ax.set_ylabel('Exam1 Score')\n",
    "ax.legend()"
   ]
  },
  {
   "cell_type": "code",
   "execution_count": 10,
   "metadata": {},
   "outputs": [
    {
     "data": {
      "text/plain": [
       "<matplotlib.legend.Legend at 0x1a1d1baac8>"
      ]
     },
     "execution_count": 10,
     "metadata": {},
     "output_type": "execute_result"
    },
    {
     "data": {
      "image/png": "[encoded data removed]",
      "text/plain": [
       "<Figure size 576x432 with 1 Axes>"
      ]
     },
     "metadata": {
      "needs_background": "light"
     },
     "output_type": "display_data"
    }
   ],
   "source": [
    "fig, ax = plt.subplots(figsize=(8,6))\n",
    "ax.scatter(accepted.exam1, accepted.exam2, s=50, color=cp[0], label='Admitted')\n",
    "ax.scatter(rejected.exam1, rejected.exam2, s=50, color=cp[3], marker='x', label='Rejected')\n",
    "ax.set_xlabel('Exam1 Score')\n",
    "ax.set_ylabel('Exam2 Score')\n",
    "ax.legend()"
   ]
  },
  {
   "cell_type": "markdown",
   "metadata": {},
   "source": [
    "We can actually do something slighly fancier with seaborn's pairpolot."
   ]
  },
  {
   "cell_type": "code",
   "execution_count": 11,
   "metadata": {},
   "outputs": [
    {
     "name": "stdout",
     "output_type": "stream",
     "text": [
      "<class 'pandas.core.frame.DataFrame'>\n",
      "RangeIndex: 100 entries, 0 to 99\n",
      "Data columns (total 3 columns):\n",
      "exam1       100 non-null float64\n",
      "exam2       100 non-null float64\n",
      "admitted    100 non-null category\n",
      "dtypes: category(1), float64(2)\n",
      "memory usage: 1.8 KB\n"
     ]
    }
   ],
   "source": [
    "#have to cast the data into a 'category' type to get it to plot with seaborn's pairplot\n",
    "data.iloc[:,-1] = data.iloc[:,-1].astype('category')\n",
    "data.info()"
   ]
  },
  {
   "cell_type": "code",
   "execution_count": 12,
   "metadata": {
    "scrolled": false
   },
   "outputs": [
    {
     "data": {
      "text/plain": [
       "<seaborn.axisgrid.PairGrid at 0x1a1d1912b0>"
      ]
     },
     "execution_count": 12,
     "metadata": {},
     "output_type": "execute_result"
    },
    {
     "data": {
      "image/png": "[encoded data removed]",
      "text/plain": [
       "<Figure size 571.65x432 with 6 Axes>"
      ]
     },
     "metadata": {
      "needs_background": "light"
     },
     "output_type": "display_data"
    }
   ],
   "source": [
    "sns.pairplot(data, vars=[\"exam1\", \"exam2\"], hue=\"admitted\", \\\n",
    "             palette={0:cp[3], 1:cp[0]}, height=3, aspect=1.2, markers=[\"x\", \"o\"])"
   ]
  },
  {
   "cell_type": "code",
   "execution_count": 13,
   "metadata": {},
   "outputs": [
    {
     "name": "stdout",
     "output_type": "stream",
     "text": [
      "<class 'pandas.core.frame.DataFrame'>\n",
      "RangeIndex: 100 entries, 0 to 99\n",
      "Data columns (total 3 columns):\n",
      "exam1       100 non-null float64\n",
      "exam2       100 non-null float64\n",
      "admitted    100 non-null int64\n",
      "dtypes: float64(2), int64(1)\n",
      "memory usage: 2.4 KB\n"
     ]
    }
   ],
   "source": [
    "#have to cast the data back to int type\n",
    "data.iloc[:,-1] = data.iloc[:,-1].astype('int')\n",
    "data.info()"
   ]
  },
  {
   "cell_type": "markdown",
   "metadata": {},
   "source": [
    "<a id=\"funcs\"></a>\n",
    "# Developing Sigmoid, Cost, and Gradient Descent Functions\n",
    "Let's start by looking at the sigmoid or logit function\n",
    "\n",
    "### The Sigmoid Function"
   ]
  },
  {
   "cell_type": "code",
   "execution_count": 14,
   "metadata": {},
   "outputs": [],
   "source": [
    "def sigmoid(z):\n",
    "    return 1 / (1 + np.exp(-z))\n",
    "#notice that in this form it can be used on an array or on individual numbers"
   ]
  },
  {
   "cell_type": "code",
   "execution_count": 15,
   "metadata": {},
   "outputs": [
    {
     "data": {
      "text/plain": [
       "[<matplotlib.lines.Line2D at 0x1a1d7b2780>]"
      ]
     },
     "execution_count": 15,
     "metadata": {},
     "output_type": "execute_result"
    },
    {
     "data": {
      "image/png": "[encoded data removed]",
      "text/plain": [
       "<Figure size 432x288 with 1 Axes>"
      ]
     },
     "metadata": {
      "needs_background": "light"
     },
     "output_type": "display_data"
    }
   ],
   "source": [
    "#Let's plot what that looks like\n",
    "x = np.linspace(-10,10,num=100)\n",
    "sig = [sigmoid(i) for i in x] # isn't list comprehension nice?\n",
    "plt.plot(x,sig)"
   ]
  },
  {
   "cell_type": "markdown",
   "metadata": {},
   "source": [
    "Let's write our cost function next.\n",
    "\n",
    "### The Cost Function For Logistic Regression"
   ]
  },
  {
   "cell_type": "code",
   "execution_count": 16,
   "metadata": {},
   "outputs": [],
   "source": [
    "def Cost(theta, X, y):\n",
    "    \"\"\" Calculates the cost function for logistic regression\n",
    "    input\n",
    "    theta: a numpy array of length n; the model parameters\n",
    "    X: an m x n matrix; instances x features\n",
    "    y: an m x 1 matrix; target variable\n",
    "\n",
    "    output\n",
    "    cost: the sum of the ordinary least squares over all the data\n",
    "    \"\"\"\n",
    "    theta = np.matrix(theta) # convert numpy array to matrix for matrix multiplications\n",
    "    \n",
    "    M = len(X)\n",
    "        \n",
    "    hyp = sigmoid(X * theta.T)\n",
    "    \n",
    "    c = np.multiply(-y, np.log(hyp)) - np.multiply((1 - y), np.log(1 - hyp))\n",
    "    \n",
    "    return np.sum(c) / (M)\n",
    "\n"
   ]
  },
  {
   "cell_type": "markdown",
   "metadata": {},
   "source": [
    "We will need to make sure we keep careful track of the matrix shapes when we calculate the cost. We'll get into this in more detail later, but here we want the initialized $\\theta$ to be a numpy array of length $n$. This is because the scipy optimizing functions wants an array not a matrix. So we need to convert $\\theta$ to a matrix in our Cost and Gradient functions."
   ]
  },
  {
   "cell_type": "code",
   "execution_count": 17,
   "metadata": {},
   "outputs": [
    {
     "data": {
      "text/plain": [
       "((100, 3), (100, 1), (3,))"
      ]
     },
     "execution_count": 17,
     "metadata": {},
     "output_type": "execute_result"
    }
   ],
   "source": [
    "# convert the features from the DataFrame into a numpy matrix\n",
    "X = np.matrix(data.iloc[:,:-1])\n",
    "\n",
    "# add the bias column\n",
    "X = np.insert(X, 0, np.ones(len(X)), axis=1)   \n",
    "\n",
    "# convert the target variables from the DataFrame into a numpy matrix\n",
    "y = np.matrix(data.iloc[:,-1]).T \n",
    "\n",
    "#Initialize theta\n",
    "theta = np.zeros(X.shape[1])\n",
    "\n",
    "X.shape, y.shape, theta.shape"
   ]
  },
  {
   "cell_type": "code",
   "execution_count": 18,
   "metadata": {},
   "outputs": [
    {
     "data": {
      "text/plain": [
       "matrix([[ 1.        , 34.62365962, 78.02469282],\n",
       "        [ 1.        , 30.28671077, 43.89499752],\n",
       "        [ 1.        , 35.84740877, 72.90219803],\n",
       "        [ 1.        , 60.18259939, 86.3085521 ],\n",
       "        [ 1.        , 79.03273605, 75.34437644]])"
      ]
     },
     "execution_count": 18,
     "metadata": {},
     "output_type": "execute_result"
    }
   ],
   "source": [
    "X[:5]"
   ]
  },
  {
   "cell_type": "code",
   "execution_count": 19,
   "metadata": {},
   "outputs": [
    {
     "data": {
      "text/plain": [
       "0.6931471805599453"
      ]
     },
     "execution_count": 19,
     "metadata": {},
     "output_type": "execute_result"
    }
   ],
   "source": [
    "Cost(theta, X, y)"
   ]
  },
  {
   "cell_type": "markdown",
   "metadata": {},
   "source": [
    "Great! Cost function is working since we have matched the $X$, $y$, and $\\theta$ matrix dimensions carefully with out matrix multiplications in the cost function. \n",
    "\n",
    "### The Gradient Function For Logistic Regression\n",
    "\n",
    "Next, we are asked to write the gradient function.  In the linear regression example, we manually implemented gradient descent. Here we are asked to use a function optimizer (`fminunc` in Octave). In that case, we need to simply write a function that calculates the gradient and then let the function optimizer (i.e. minimizer) do the heavy lifting. In python we'll use scipy.optimize API (see: [scipy's Optimization page](https://docs.scipy.org/doc/scipy/reference/tutorial/optimize.html) and [scipy.optmize documentation](https://docs.scipy.org/doc/scipy/reference/optimize.html#module-scipy.optimize)). A key thing to remember here is that the parameters which we want to find the optimal values for (in this case theta) should be the __FIRST__ argument of the function. Notice that I wrote the cost function with the same convention. "
   ]
  },
  {
   "cell_type": "code",
   "execution_count": 20,
   "metadata": {},
   "outputs": [],
   "source": [
    "def Gradient(theta, X, y):\n",
    "    \"\"\" Calculates the gradient of the logistic regression cost function \n",
    "    input\n",
    "    theta: a 1 x n matrix; the model parameters\n",
    "    X: an m x n matrix; instances x features\n",
    "    y: an m x 1 matrix; target variable\n",
    "    \n",
    "    output\n",
    "    gradient: a numpy array of floats of lenth n\n",
    "    \"\"\"\n",
    "    M=len(X)\n",
    "    theta=np.matrix(theta)\n",
    "    parameters = int(theta.shape[1])\n",
    "    grad = np.zeros(parameters)\n",
    "        \n",
    "    error = sigmoid(X * theta.T) - y\n",
    "    \n",
    "    for i in range(parameters):\n",
    "        grad[i] = np.sum(np.multiply(error, X[:,i])) / M\n",
    "    \n",
    "    return grad"
   ]
  },
  {
   "cell_type": "code",
   "execution_count": 21,
   "metadata": {},
   "outputs": [
    {
     "data": {
      "text/plain": [
       "array([ -0.1       , -12.00921659, -11.26284221])"
      ]
     },
     "execution_count": 21,
     "metadata": {},
     "output_type": "execute_result"
    }
   ],
   "source": [
    "Gradient(theta,X,y)"
   ]
  },
  {
   "cell_type": "markdown",
   "metadata": {},
   "source": [
    "<a id=\"opt\"></a> \n",
    "# Finding the Optimal Model Parameters \n",
    "\n",
    "Excellent! We have a working function that calculates the gradient. Now we need to call a function optimizer (minimizer) from scipy. For this problem, we'll use `fmin_trunc`. Here is a snippet from the `opt.fmin_tnc` documentation: `\"Minimize a function with variables subject to bounds, using gradient information in a truncated Newton algorithm. ... The underlying algorithm is truncated Newton, also called Newton Conjugate-Gradient. The algorithm incorporates the bound constraints by determining the descent direction as in an unconstrained truncated Newton, but never taking a step-size large enough to leave the space of feasible x's. ...\"`\n",
    "\n",
    "Look carefully at the documentation arguments in more detail to get a better feel for why they are being called and why we wrote the Cost and Gradient functions the way we did."
   ]
  },
  {
   "cell_type": "code",
   "execution_count": 22,
   "metadata": {},
   "outputs": [
    {
     "data": {
      "text/plain": [
       "(array([-25.16131866,   0.20623159,   0.20147149]), 36, 0)"
      ]
     },
     "execution_count": 22,
     "metadata": {},
     "output_type": "execute_result"
    }
   ],
   "source": [
    "result = opt.fmin_tnc(func=Cost, x0=theta, fprime=Gradient, args=(X, y))\n",
    "result"
   ]
  },
  {
   "cell_type": "code",
   "execution_count": 23,
   "metadata": {
    "scrolled": true
   },
   "outputs": [
    {
     "data": {
      "text/plain": [
       "0.20349770158947444"
      ]
     },
     "execution_count": 23,
     "metadata": {},
     "output_type": "execute_result"
    }
   ],
   "source": [
    "Cost(result[0], X, y)"
   ]
  },
  {
   "cell_type": "markdown",
   "metadata": {},
   "source": [
    "Just like that we've found the optimal logistic regression parameters for this data set. -25.16 is the bias term, while 0.206 and 0.201 represent the linear components for exam1 and exam2, respectively. \n",
    "\n",
    "Alternatively, we could have used the more flexible `optimize.minimize` function from scipy. "
   ]
  },
  {
   "cell_type": "code",
   "execution_count": 24,
   "metadata": {},
   "outputs": [
    {
     "data": {
      "text/plain": [
       "     fun: 0.20349770158947444\n",
       "     jac: array([9.01534233e-09, 8.69256070e-08, 4.80499281e-07])\n",
       " message: 'Local minimum reached (|pg| ~= 0)'\n",
       "    nfev: 36\n",
       "     nit: 17\n",
       "  status: 0\n",
       " success: True\n",
       "       x: array([-25.16131866,   0.20623159,   0.20147149])"
      ]
     },
     "execution_count": 24,
     "metadata": {},
     "output_type": "execute_result"
    }
   ],
   "source": [
    "result = opt.minimize(fun=Cost, x0=theta, args=(X,y), method='TNC', jac=Gradient)\n",
    "result"
   ]
  },
  {
   "cell_type": "code",
   "execution_count": 25,
   "metadata": {},
   "outputs": [
    {
     "data": {
      "text/plain": [
       "array([-25.16131866,   0.20623159,   0.20147149])"
      ]
     },
     "execution_count": 25,
     "metadata": {},
     "output_type": "execute_result"
    }
   ],
   "source": [
    "result.x"
   ]
  },
  {
   "cell_type": "code",
   "execution_count": 26,
   "metadata": {},
   "outputs": [
    {
     "data": {
      "text/plain": [
       "0.20349770158947444"
      ]
     },
     "execution_count": 26,
     "metadata": {},
     "output_type": "execute_result"
    }
   ],
   "source": [
    "Cost(result.x, X, y)"
   ]
  },
  {
   "cell_type": "markdown",
   "metadata": {},
   "source": [
    "Awesome! It may be fun for yourself to play around with different optimizers and see how long it takes for scipy to converge on a solution. With the logistic cost function some solvers won't perform as well and will spit out some warnings. \n",
    "\n",
    "So it seems like we have the optimal model parameters, but it would be nice to visualize the boundary.\n",
    "<a id=\"plot\"></a> \n",
    "# Plotting the Decision Boundary"
   ]
  },
  {
   "cell_type": "code",
   "execution_count": 27,
   "metadata": {},
   "outputs": [],
   "source": [
    "def linear_boundary(weights,xmin,xmax):\n",
    "    \n",
    "    x1 = np.linspace(xmin,xmax,num=4)\n",
    "    x2 = np.zeros(len(x1))\n",
    "    x0 = np.ones(len(x1))\n",
    "\n",
    "    x = Symbol('x')\n",
    "    e = 2.71828\n",
    "    c = weights[2]\n",
    "\n",
    "    for index, value in enumerate(x1):\n",
    "        a = weights[0]*x0[index]\n",
    "        b = weights[1]*x1[index]\n",
    "        result = solve(a + b + weights[2]*x, x)\n",
    "        x2[index] = result[0]\n",
    "\n",
    "    return x1, x2"
   ]
  },
  {
   "cell_type": "code",
   "execution_count": 28,
   "metadata": {},
   "outputs": [
    {
     "data": {
      "text/plain": [
       "<matplotlib.legend.Legend at 0x1a1d8cb908>"
      ]
     },
     "execution_count": 28,
     "metadata": {},
     "output_type": "execute_result"
    },
    {
     "data": {
      "image/png": "[encoded data removed]",
      "text/plain": [
       "<Figure size 576x432 with 1 Axes>"
      ]
     },
     "metadata": {
      "needs_background": "light"
     },
     "output_type": "display_data"
    }
   ],
   "source": [
    "x1,x2 = linear_boundary(result.x,20,100)\n",
    "\n",
    "\n",
    "fig, ax = plt.subplots(figsize=(8,6))\n",
    "ax.scatter(accepted.exam1, accepted.exam2, s=50, color=cp[0], label='Admitted')\n",
    "ax.scatter(rejected.exam1, rejected.exam2, s=50, color=cp[3], marker='x', label='Rejected')\n",
    "ax.plot(x1,x2, color='red')\n",
    "ax.set_xlabel('Exam1 Score')\n",
    "ax.set_ylabel('Exam2 Score')\n",
    "ax.legend()"
   ]
  },
  {
   "cell_type": "markdown",
   "metadata": {},
   "source": [
    "Look's pretty good, maybe it would be better to have a non-linear boundary, but in logistic regression this would require generating non-linear features (feature engineering). But it \"seems\" like a linear boundary is doing OK here. But can we quantify it? Of course we can. We're talking about measures like accuracy, precision, recall, and f1 score. To get these, we first need to find the predicted results of our model.\n",
    "<a id=\"metrics\"></a> \n",
    "# Model Evaluation"
   ]
  },
  {
   "cell_type": "code",
   "execution_count": 29,
   "metadata": {},
   "outputs": [],
   "source": [
    "def predict(theta, X):\n",
    "    proba = sigmoid(X * theta.T)\n",
    "    prediction = [1 if x >= 0.5 else 0 for x in proba]\n",
    "    return prediction"
   ]
  },
  {
   "cell_type": "code",
   "execution_count": 30,
   "metadata": {
    "scrolled": false
   },
   "outputs": [],
   "source": [
    "best_fit_params = np.matrix(result.x)\n",
    "lr_predictions = predict(best_fit_params, X)"
   ]
  },
  {
   "cell_type": "markdown",
   "metadata": {},
   "source": [
    "We could calculate our own accuracy, etc... metrics by calculating the number of true positives, etc..., but I'm lazy, and sklearn can do this for you!"
   ]
  },
  {
   "cell_type": "code",
   "execution_count": 31,
   "metadata": {},
   "outputs": [],
   "source": [
    "def get_metrics(y_data, y_pred):  \n",
    "    # true positives / (true positives+false positives)\n",
    "    precision = precision_score(y_data, y_pred)\n",
    "    \n",
    "    # true positives / (true positives + false negatives)\n",
    "    recall = recall_score(y_data, y_pred)\n",
    "    \n",
    "    # harmonic mean of precision and recall\n",
    "    f1 = f1_score(y_data, y_pred)\n",
    "    \n",
    "    # true positives + true negatives/ total\n",
    "    accuracy = accuracy_score(y_data, y_pred)\n",
    "    return accuracy, precision, recall, f1"
   ]
  },
  {
   "cell_type": "code",
   "execution_count": 32,
   "metadata": {},
   "outputs": [],
   "source": [
    "acc, prec, rec, f1 = get_metrics(y, lr_predictions)"
   ]
  },
  {
   "cell_type": "code",
   "execution_count": 33,
   "metadata": {},
   "outputs": [
    {
     "name": "stdout",
     "output_type": "stream",
     "text": [
      " \n",
      "Accuracy: 0.89; Precision: 0.9; Recall: 0.92; F1 Score: 0.91\n",
      " \n"
     ]
    }
   ],
   "source": [
    "print(' ')\n",
    "print('Accuracy: {:.2}; Precision: {:.2}; Recall: {:.2}; F1 Score: {:.2}'.format(acc, prec, rec, f1))\n",
    "print(' ')"
   ]
  },
  {
   "cell_type": "code",
   "execution_count": 34,
   "metadata": {},
   "outputs": [
    {
     "name": "stdout",
     "output_type": "stream",
     "text": [
      "[[34  6]\n",
      " [ 5 55]]\n"
     ]
    }
   ],
   "source": [
    "conf = confusion_matrix(y, lr_predictions)\n",
    "print(conf)\n",
    "#OK. so we printed a confusion matrix. But it would be nicer to plot it"
   ]
  },
  {
   "cell_type": "code",
   "execution_count": 35,
   "metadata": {},
   "outputs": [
    {
     "data": {
      "text/plain": [
       "<matplotlib.axes._subplots.AxesSubplot at 0x1a1da20be0>"
      ]
     },
     "execution_count": 35,
     "metadata": {},
     "output_type": "execute_result"
    },
    {
     "data": {
      "image/png": "[encoded data removed]",
      "text/plain": [
       "<Figure size 360x360 with 2 Axes>"
      ]
     },
     "metadata": {
      "needs_background": "light"
     },
     "output_type": "display_data"
    }
   ],
   "source": [
    "# Seaborn has a nice heatmap plot that's great for confusion matrices.\n",
    "df_cm = pd.DataFrame(conf.astype(int), index = ['TP','TN'], columns = ['PP','PN'])\n",
    "plt.figure(figsize = (5,5))\n",
    "sns.heatmap(df_cm, annot=True, cmap=\"YlGnBu\")"
   ]
  },
  {
   "cell_type": "markdown",
   "metadata": {},
   "source": [
    "The accuracy is 89%, which is not horrible and from looking at the confusion matrix, it seems that we are pretty well balanced between choosing false positives and false negatives. You can see this directly from how the logistic regression boundary slices through the data in the 2D scatter plot. "
   ]
  },
  {
   "cell_type": "markdown",
   "metadata": {},
   "source": [
    "<a id=\"sklearn\"></a> \n",
    "# Implementing Logistic Regression with sklearn"
   ]
  },
  {
   "cell_type": "code",
   "execution_count": 36,
   "metadata": {},
   "outputs": [
    {
     "data": {
      "text/plain": [
       "((100, 2), (100,))"
      ]
     },
     "execution_count": 36,
     "metadata": {},
     "output_type": "execute_result"
    }
   ],
   "source": [
    "# convert the features from the DataFrame into a numpy matrix\n",
    "X = np.matrix(data.iloc[:,:-1])\n",
    "\n",
    "# convert the target variables from the DataFrame into a numpy matrix\n",
    "y = np.array(data.iloc[:,-1]).T \n",
    "\n",
    "X.shape, y.shape"
   ]
  },
  {
   "cell_type": "code",
   "execution_count": 37,
   "metadata": {},
   "outputs": [
    {
     "data": {
      "text/plain": [
       "(array([-25.16109754]), array([[0.20622982, 0.20146969]]))"
      ]
     },
     "execution_count": 37,
     "metadata": {},
     "output_type": "execute_result"
    }
   ],
   "source": [
    "# create the LogisticRegression classifier object \n",
    "clf = LogisticRegression(C=1000, solver='newton-cg').fit(X, y)\n",
    "clf.intercept_, clf.coef_"
   ]
  },
  {
   "cell_type": "markdown",
   "metadata": {},
   "source": [
    "Here I used a very large inverse regulatization parameter (C=1000). The LogisticRegression algorithm has regularization built into it and the default parameter (C=1) provides some finite regularization (L2 with the newton-cg solver). Since we want to compare with the home-made solution above, we want to get rid of the regularization. Also, I set fit_intercept to False (the default it True) because we have already manually inserted the bias term into the $X$ matrix.\n",
    "\n",
    "Next, let's get the predictions of the classifier on the data and then check the metrics. Since the classifier coefficients are nearly identical to our home-made solution, we should expect the same accuracy results."
   ]
  },
  {
   "cell_type": "code",
   "execution_count": 38,
   "metadata": {},
   "outputs": [
    {
     "name": "stdout",
     "output_type": "stream",
     "text": [
      " \n",
      "Accuracy: 0.89; Precision: 0.9; Recall: 0.92; F1 Score: 0.91\n",
      " \n"
     ]
    }
   ],
   "source": [
    "y_pred = clf.predict(X)\n",
    "acc, prec, rec, f1 = get_metrics(y, y_pred)\n",
    "print(' ')\n",
    "print('Accuracy: {:.2}; Precision: {:.2}; Recall: {:.2}; F1 Score: {:.2}'.format(acc, prec, rec, f1))\n",
    "print(' ')"
   ]
  },
  {
   "cell_type": "markdown",
   "metadata": {},
   "source": [
    "<a id=\"Part2\"></a> \n",
    "# Part 2 - Regularized Logistic Regression with Non-linear Features \n",
    "Prompt:<br>\n",
    "Implement regularized logistic regression to predict whether microchips from a fabrication plant passes quality assurance (QA). During QA, each microchip goes through various tests to ensure it is functioning correctly.\n",
    "\n",
    "Suppose you are the product manager of the factory and you have the test results for some microchips on two different tests. From these two tests, you would like to determine whether the microchips should be accepted or rejected. To help you make the decision, you have a dataset of test results on past microchips, from which you can build a logistic regression model.\n",
    "<a id=\"eda2\"></a>\n",
    "# Exploratory Data Analysis"
   ]
  },
  {
   "cell_type": "code",
   "execution_count": 39,
   "metadata": {},
   "outputs": [
    {
     "data": {
      "text/html": [
       "<div>\n",
       "<style scoped>\n",
       "    .dataframe tbody tr th:only-of-type {\n",
       "        vertical-align: middle;\n",
       "    }\n",
       "\n",
       "    .dataframe tbody tr th {\n",
       "        vertical-align: top;\n",
       "    }\n",
       "\n",
       "    .dataframe thead th {\n",
       "        text-align: right;\n",
       "    }\n",
       "</style>\n",
       "<table border=\"1\" class=\"dataframe\">\n",
       "  <thead>\n",
       "    <tr style=\"text-align: right;\">\n",
       "      <th></th>\n",
       "      <th>test1</th>\n",
       "      <th>test2</th>\n",
       "      <th>accepted</th>\n",
       "    </tr>\n",
       "  </thead>\n",
       "  <tbody>\n",
       "    <tr>\n",
       "      <th>0</th>\n",
       "      <td>0.051267</td>\n",
       "      <td>0.69956</td>\n",
       "      <td>1</td>\n",
       "    </tr>\n",
       "    <tr>\n",
       "      <th>1</th>\n",
       "      <td>-0.092742</td>\n",
       "      <td>0.68494</td>\n",
       "      <td>1</td>\n",
       "    </tr>\n",
       "    <tr>\n",
       "      <th>2</th>\n",
       "      <td>-0.213710</td>\n",
       "      <td>0.69225</td>\n",
       "      <td>1</td>\n",
       "    </tr>\n",
       "    <tr>\n",
       "      <th>3</th>\n",
       "      <td>-0.375000</td>\n",
       "      <td>0.50219</td>\n",
       "      <td>1</td>\n",
       "    </tr>\n",
       "    <tr>\n",
       "      <th>4</th>\n",
       "      <td>-0.513250</td>\n",
       "      <td>0.46564</td>\n",
       "      <td>1</td>\n",
       "    </tr>\n",
       "  </tbody>\n",
       "</table>\n",
       "</div>"
      ],
      "text/plain": [
       "      test1    test2  accepted\n",
       "0  0.051267  0.69956         1\n",
       "1 -0.092742  0.68494         1\n",
       "2 -0.213710  0.69225         1\n",
       "3 -0.375000  0.50219         1\n",
       "4 -0.513250  0.46564         1"
      ]
     },
     "execution_count": 39,
     "metadata": {},
     "output_type": "execute_result"
    }
   ],
   "source": [
    "#Load the data into a pandas DataFrame\n",
    "data = pd.read_csv('ex2/ex2data2.txt', header=None, names=['test1', 'test2', 'accepted'])\n",
    "data.head()"
   ]
  },
  {
   "cell_type": "code",
   "execution_count": 40,
   "metadata": {},
   "outputs": [
    {
     "name": "stdout",
     "output_type": "stream",
     "text": [
      "<class 'pandas.core.frame.DataFrame'>\n",
      "RangeIndex: 118 entries, 0 to 117\n",
      "Data columns (total 3 columns):\n",
      "test1       118 non-null float64\n",
      "test2       118 non-null float64\n",
      "accepted    118 non-null int64\n",
      "dtypes: float64(2), int64(1)\n",
      "memory usage: 2.8 KB\n"
     ]
    }
   ],
   "source": [
    "data.info()"
   ]
  },
  {
   "cell_type": "code",
   "execution_count": 41,
   "metadata": {},
   "outputs": [
    {
     "data": {
      "text/html": [
       "<div>\n",
       "<style scoped>\n",
       "    .dataframe tbody tr th:only-of-type {\n",
       "        vertical-align: middle;\n",
       "    }\n",
       "\n",
       "    .dataframe tbody tr th {\n",
       "        vertical-align: top;\n",
       "    }\n",
       "\n",
       "    .dataframe thead th {\n",
       "        text-align: right;\n",
       "    }\n",
       "</style>\n",
       "<table border=\"1\" class=\"dataframe\">\n",
       "  <thead>\n",
       "    <tr style=\"text-align: right;\">\n",
       "      <th></th>\n",
       "      <th>count</th>\n",
       "      <th>mean</th>\n",
       "      <th>std</th>\n",
       "      <th>min</th>\n",
       "      <th>25%</th>\n",
       "      <th>50%</th>\n",
       "      <th>75%</th>\n",
       "      <th>max</th>\n",
       "    </tr>\n",
       "  </thead>\n",
       "  <tbody>\n",
       "    <tr>\n",
       "      <th>test1</th>\n",
       "      <td>118.0</td>\n",
       "      <td>0.054779</td>\n",
       "      <td>0.496654</td>\n",
       "      <td>-0.83007</td>\n",
       "      <td>-0.372120</td>\n",
       "      <td>-0.006336</td>\n",
       "      <td>0.478970</td>\n",
       "      <td>1.0709</td>\n",
       "    </tr>\n",
       "    <tr>\n",
       "      <th>test2</th>\n",
       "      <td>118.0</td>\n",
       "      <td>0.183102</td>\n",
       "      <td>0.519743</td>\n",
       "      <td>-0.76974</td>\n",
       "      <td>-0.254385</td>\n",
       "      <td>0.213455</td>\n",
       "      <td>0.646562</td>\n",
       "      <td>1.1089</td>\n",
       "    </tr>\n",
       "    <tr>\n",
       "      <th>accepted</th>\n",
       "      <td>118.0</td>\n",
       "      <td>0.491525</td>\n",
       "      <td>0.502060</td>\n",
       "      <td>0.00000</td>\n",
       "      <td>0.000000</td>\n",
       "      <td>0.000000</td>\n",
       "      <td>1.000000</td>\n",
       "      <td>1.0000</td>\n",
       "    </tr>\n",
       "  </tbody>\n",
       "</table>\n",
       "</div>"
      ],
      "text/plain": [
       "          count      mean       std      min       25%       50%       75%  \\\n",
       "test1     118.0  0.054779  0.496654 -0.83007 -0.372120 -0.006336  0.478970   \n",
       "test2     118.0  0.183102  0.519743 -0.76974 -0.254385  0.213455  0.646562   \n",
       "accepted  118.0  0.491525  0.502060  0.00000  0.000000  0.000000  1.000000   \n",
       "\n",
       "             max  \n",
       "test1     1.0709  \n",
       "test2     1.1089  \n",
       "accepted  1.0000  "
      ]
     },
     "execution_count": 41,
     "metadata": {},
     "output_type": "execute_result"
    }
   ],
   "source": [
    "data.describe().T"
   ]
  },
  {
   "cell_type": "code",
   "execution_count": 42,
   "metadata": {},
   "outputs": [],
   "source": [
    "#use boolean masking to look separate data of accepted and rejected applicants\n",
    "accepted = data[data.accepted==1]\n",
    "rejected = data[data.accepted==0]"
   ]
  },
  {
   "cell_type": "code",
   "execution_count": 43,
   "metadata": {},
   "outputs": [
    {
     "data": {
      "text/plain": [
       "<seaborn.axisgrid.PairGrid at 0x1a1dbe3f98>"
      ]
     },
     "execution_count": 43,
     "metadata": {},
     "output_type": "execute_result"
    },
    {
     "data": {
      "image/png": "[encoded data removed]",
      "text/plain": [
       "<Figure size 572.275x432 with 6 Axes>"
      ]
     },
     "metadata": {
      "needs_background": "light"
     },
     "output_type": "display_data"
    }
   ],
   "source": [
    "#have to cast the data into a 'category' type to get it to plot with seaborn's pairplot\n",
    "data.iloc[:,-1] = data.iloc[:,-1].astype('category')\n",
    "\n",
    "sns.pairplot(data, vars=[\"test1\", \"test2\"], hue=\"accepted\", \\\n",
    "             palette={0:cp[3], 1:cp[0]}, height=3, aspect=1.2, markers=[\"x\", \"o\"])"
   ]
  },
  {
   "cell_type": "code",
   "execution_count": 44,
   "metadata": {},
   "outputs": [
    {
     "name": "stdout",
     "output_type": "stream",
     "text": [
      "<class 'pandas.core.frame.DataFrame'>\n",
      "RangeIndex: 118 entries, 0 to 117\n",
      "Data columns (total 3 columns):\n",
      "test1       118 non-null float64\n",
      "test2       118 non-null float64\n",
      "accepted    118 non-null int64\n",
      "dtypes: float64(2), int64(1)\n",
      "memory usage: 2.8 KB\n"
     ]
    }
   ],
   "source": [
    "# cast the data back to int type\n",
    "data.iloc[:,-1] = data.iloc[:,-1].astype('int')\n",
    "data.info()"
   ]
  },
  {
   "cell_type": "markdown",
   "metadata": {},
   "source": [
    "The data clearly has more structure and we can see that a linear boundary between the two variables will not provide a good model. So we need to generate non-linear features (i.e test1$\\times$test2, test1$^2$, and test2$^2$ at the very least). When generating non-linear features, it's ALWAYS a good idea to include regulatization. \n",
    "<a id=\"fg\"></a>\n",
    "# Polynomial Feature Generation\n",
    "\n",
    "Conveniently, sklearn provides a function which automatically generates nonlinear features for you! Sensing a theme? sklearn is amazingly well-designed for machine learning problems."
   ]
  },
  {
   "cell_type": "code",
   "execution_count": null,
   "metadata": {},
   "outputs": [],
   "source": []
  },
  {
   "cell_type": "code",
   "execution_count": 45,
   "metadata": {},
   "outputs": [
    {
     "data": {
      "text/plain": [
       "((118, 28), (118, 1), (28,))"
      ]
     },
     "execution_count": 45,
     "metadata": {},
     "output_type": "execute_result"
    }
   ],
   "source": [
    "X = np.matrix(data.iloc[:,:-1])\n",
    "\n",
    "poly = PolynomialFeatures(6)\n",
    "X = poly.fit_transform(X)\n",
    "\n",
    "# convert the target variables from the DataFrame into a numpy matrix\n",
    "# notice that for the Gradient and Cost functions, this NEEDS TO BE A MATRIX mx1\n",
    "# (for sklearn, it needs to be an array of length m)\n",
    "y = np.matrix(data.iloc[:,-1]).T \n",
    "\n",
    "#Initialize theta\n",
    "theta = np.zeros(X.shape[1])\n",
    "\n",
    "X.shape, y.shape, theta.shape"
   ]
  },
  {
   "cell_type": "code",
   "execution_count": 46,
   "metadata": {},
   "outputs": [
    {
     "data": {
      "text/html": [
       "<div>\n",
       "<style scoped>\n",
       "    .dataframe tbody tr th:only-of-type {\n",
       "        vertical-align: middle;\n",
       "    }\n",
       "\n",
       "    .dataframe tbody tr th {\n",
       "        vertical-align: top;\n",
       "    }\n",
       "\n",
       "    .dataframe thead th {\n",
       "        text-align: right;\n",
       "    }\n",
       "</style>\n",
       "<table border=\"1\" class=\"dataframe\">\n",
       "  <thead>\n",
       "    <tr style=\"text-align: right;\">\n",
       "      <th></th>\n",
       "      <th>0</th>\n",
       "      <th>1</th>\n",
       "      <th>2</th>\n",
       "      <th>3</th>\n",
       "      <th>4</th>\n",
       "      <th>5</th>\n",
       "      <th>6</th>\n",
       "      <th>7</th>\n",
       "      <th>8</th>\n",
       "      <th>9</th>\n",
       "      <th>...</th>\n",
       "      <th>18</th>\n",
       "      <th>19</th>\n",
       "      <th>20</th>\n",
       "      <th>21</th>\n",
       "      <th>22</th>\n",
       "      <th>23</th>\n",
       "      <th>24</th>\n",
       "      <th>25</th>\n",
       "      <th>26</th>\n",
       "      <th>27</th>\n",
       "    </tr>\n",
       "  </thead>\n",
       "  <tbody>\n",
       "    <tr>\n",
       "      <th>0</th>\n",
       "      <td>1.0</td>\n",
       "      <td>0.051267</td>\n",
       "      <td>0.69956</td>\n",
       "      <td>0.002628</td>\n",
       "      <td>0.035864</td>\n",
       "      <td>0.489384</td>\n",
       "      <td>0.000135</td>\n",
       "      <td>0.001839</td>\n",
       "      <td>0.025089</td>\n",
       "      <td>0.342354</td>\n",
       "      <td>...</td>\n",
       "      <td>0.000900</td>\n",
       "      <td>0.012278</td>\n",
       "      <td>0.167542</td>\n",
       "      <td>1.815630e-08</td>\n",
       "      <td>2.477505e-07</td>\n",
       "      <td>0.000003</td>\n",
       "      <td>0.000046</td>\n",
       "      <td>0.000629</td>\n",
       "      <td>0.008589</td>\n",
       "      <td>0.117206</td>\n",
       "    </tr>\n",
       "    <tr>\n",
       "      <th>1</th>\n",
       "      <td>1.0</td>\n",
       "      <td>-0.092742</td>\n",
       "      <td>0.68494</td>\n",
       "      <td>0.008601</td>\n",
       "      <td>-0.063523</td>\n",
       "      <td>0.469143</td>\n",
       "      <td>-0.000798</td>\n",
       "      <td>0.005891</td>\n",
       "      <td>-0.043509</td>\n",
       "      <td>0.321335</td>\n",
       "      <td>...</td>\n",
       "      <td>0.002764</td>\n",
       "      <td>-0.020412</td>\n",
       "      <td>0.150752</td>\n",
       "      <td>6.362953e-07</td>\n",
       "      <td>-4.699318e-06</td>\n",
       "      <td>0.000035</td>\n",
       "      <td>-0.000256</td>\n",
       "      <td>0.001893</td>\n",
       "      <td>-0.013981</td>\n",
       "      <td>0.103256</td>\n",
       "    </tr>\n",
       "    <tr>\n",
       "      <th>2</th>\n",
       "      <td>1.0</td>\n",
       "      <td>-0.213710</td>\n",
       "      <td>0.69225</td>\n",
       "      <td>0.045672</td>\n",
       "      <td>-0.147941</td>\n",
       "      <td>0.479210</td>\n",
       "      <td>-0.009761</td>\n",
       "      <td>0.031616</td>\n",
       "      <td>-0.102412</td>\n",
       "      <td>0.331733</td>\n",
       "      <td>...</td>\n",
       "      <td>0.015151</td>\n",
       "      <td>-0.049077</td>\n",
       "      <td>0.158970</td>\n",
       "      <td>9.526844e-05</td>\n",
       "      <td>-3.085938e-04</td>\n",
       "      <td>0.001000</td>\n",
       "      <td>-0.003238</td>\n",
       "      <td>0.010488</td>\n",
       "      <td>-0.033973</td>\n",
       "      <td>0.110047</td>\n",
       "    </tr>\n",
       "    <tr>\n",
       "      <th>3</th>\n",
       "      <td>1.0</td>\n",
       "      <td>-0.375000</td>\n",
       "      <td>0.50219</td>\n",
       "      <td>0.140625</td>\n",
       "      <td>-0.188321</td>\n",
       "      <td>0.252195</td>\n",
       "      <td>-0.052734</td>\n",
       "      <td>0.070620</td>\n",
       "      <td>-0.094573</td>\n",
       "      <td>0.126650</td>\n",
       "      <td>...</td>\n",
       "      <td>0.017810</td>\n",
       "      <td>-0.023851</td>\n",
       "      <td>0.031940</td>\n",
       "      <td>2.780914e-03</td>\n",
       "      <td>-3.724126e-03</td>\n",
       "      <td>0.004987</td>\n",
       "      <td>-0.006679</td>\n",
       "      <td>0.008944</td>\n",
       "      <td>-0.011978</td>\n",
       "      <td>0.016040</td>\n",
       "    </tr>\n",
       "    <tr>\n",
       "      <th>4</th>\n",
       "      <td>1.0</td>\n",
       "      <td>-0.513250</td>\n",
       "      <td>0.46564</td>\n",
       "      <td>0.263426</td>\n",
       "      <td>-0.238990</td>\n",
       "      <td>0.216821</td>\n",
       "      <td>-0.135203</td>\n",
       "      <td>0.122661</td>\n",
       "      <td>-0.111283</td>\n",
       "      <td>0.100960</td>\n",
       "      <td>...</td>\n",
       "      <td>0.026596</td>\n",
       "      <td>-0.024128</td>\n",
       "      <td>0.021890</td>\n",
       "      <td>1.827990e-02</td>\n",
       "      <td>-1.658422e-02</td>\n",
       "      <td>0.015046</td>\n",
       "      <td>-0.013650</td>\n",
       "      <td>0.012384</td>\n",
       "      <td>-0.011235</td>\n",
       "      <td>0.010193</td>\n",
       "    </tr>\n",
       "  </tbody>\n",
       "</table>\n",
       "<p>5 rows × 28 columns</p>\n",
       "</div>"
      ],
      "text/plain": [
       "    0         1        2         3         4         5         6         7   \\\n",
       "0  1.0  0.051267  0.69956  0.002628  0.035864  0.489384  0.000135  0.001839   \n",
       "1  1.0 -0.092742  0.68494  0.008601 -0.063523  0.469143 -0.000798  0.005891   \n",
       "2  1.0 -0.213710  0.69225  0.045672 -0.147941  0.479210 -0.009761  0.031616   \n",
       "3  1.0 -0.375000  0.50219  0.140625 -0.188321  0.252195 -0.052734  0.070620   \n",
       "4  1.0 -0.513250  0.46564  0.263426 -0.238990  0.216821 -0.135203  0.122661   \n",
       "\n",
       "         8         9     ...           18        19        20            21  \\\n",
       "0  0.025089  0.342354    ...     0.000900  0.012278  0.167542  1.815630e-08   \n",
       "1 -0.043509  0.321335    ...     0.002764 -0.020412  0.150752  6.362953e-07   \n",
       "2 -0.102412  0.331733    ...     0.015151 -0.049077  0.158970  9.526844e-05   \n",
       "3 -0.094573  0.126650    ...     0.017810 -0.023851  0.031940  2.780914e-03   \n",
       "4 -0.111283  0.100960    ...     0.026596 -0.024128  0.021890  1.827990e-02   \n",
       "\n",
       "             22        23        24        25        26        27  \n",
       "0  2.477505e-07  0.000003  0.000046  0.000629  0.008589  0.117206  \n",
       "1 -4.699318e-06  0.000035 -0.000256  0.001893 -0.013981  0.103256  \n",
       "2 -3.085938e-04  0.001000 -0.003238  0.010488 -0.033973  0.110047  \n",
       "3 -3.724126e-03  0.004987 -0.006679  0.008944 -0.011978  0.016040  \n",
       "4 -1.658422e-02  0.015046 -0.013650  0.012384 -0.011235  0.010193  \n",
       "\n",
       "[5 rows x 28 columns]"
      ]
     },
     "execution_count": 46,
     "metadata": {},
     "output_type": "execute_result"
    }
   ],
   "source": [
    "#let's just look at it quickly. \n",
    "pd.DataFrame(X).head()"
   ]
  },
  {
   "cell_type": "markdown",
   "metadata": {},
   "source": [
    "<a id=\"reg\"></a>\n",
    "# Adding Regularization to Cost and Gradient Functions"
   ]
  },
  {
   "cell_type": "code",
   "execution_count": 47,
   "metadata": {},
   "outputs": [],
   "source": [
    "def Regularized_Cost(theta, X, y, reg_scale):\n",
    "    \"\"\" Calculates the regularized cost function for logistic regression\n",
    "    input\n",
    "    theta: a numpy array of length n; the model parameters\n",
    "    X: an m x n matrix; instances x features\n",
    "    y: an m x 1 matrix; target variable\n",
    "    reg_scale: a float; strength of the regularization\n",
    "\n",
    "    output\n",
    "    cost: the sum of the ordinary least squares over all the data\n",
    "    \"\"\"\n",
    "    theta = np.matrix(theta)\n",
    "    M = len(X)\n",
    "    hyp = sigmoid(X * theta.T)\n",
    "    \n",
    "    c = np.multiply(-y, np.log(hyp)) - np.multiply((1 - y), np.log(1 - hyp))\n",
    "    reg = (reg_scale * np.sum(np.power(theta[:,1:theta.shape[1]], 2)) / (2 * M))\n",
    "    return (np.sum(c) / M) + reg"
   ]
  },
  {
   "cell_type": "code",
   "execution_count": 48,
   "metadata": {},
   "outputs": [
    {
     "data": {
      "text/plain": [
       "0.6931471805599454"
      ]
     },
     "execution_count": 48,
     "metadata": {},
     "output_type": "execute_result"
    }
   ],
   "source": [
    "Regularized_Cost(theta, X, y, 1)"
   ]
  },
  {
   "cell_type": "markdown",
   "metadata": {},
   "source": [
    "Agrees with `ex2.pdf`. However, when $\\theta$ is initialized to zero, we can't tell if the regularization part of the cost function is working. Let's initialize $\\theta$ to all ones and see how the cost function changes if we tune the regularization parameter"
   ]
  },
  {
   "cell_type": "code",
   "execution_count": 49,
   "metadata": {},
   "outputs": [],
   "source": [
    "theta = np.ones(X.shape[1])"
   ]
  },
  {
   "cell_type": "code",
   "execution_count": 50,
   "metadata": {},
   "outputs": [
    {
     "data": {
      "text/plain": [
       "(2.020555941784501, 2.134848314665857, 13.461119501106536, 116.42722119602179)"
      ]
     },
     "execution_count": 50,
     "metadata": {},
     "output_type": "execute_result"
    }
   ],
   "source": [
    "Regularized_Cost(theta, X, y, .001), Regularized_Cost(theta, X, y, 1), \\\n",
    "Regularized_Cost(theta, X, y, 100), Regularized_Cost(theta, X, y, 1000)"
   ]
  },
  {
   "cell_type": "code",
   "execution_count": 51,
   "metadata": {},
   "outputs": [],
   "source": [
    "def Regularized_Gradient(theta, X, y, reg_scale):\n",
    "    \"\"\" Calculates the regularized gradient of the logistic regression cost function \n",
    "    input\n",
    "    theta: a 1 x n matrix; the model parameters\n",
    "    X: an m x n matrix; instances x features\n",
    "    y: an m x 1 matrix; target variable\n",
    "    reg_scale: a float; strength of the regularization\n",
    "    \n",
    "    output\n",
    "    gradient: a numpy array of floats of lenth n\n",
    "    \"\"\"\n",
    "    M=len(X)\n",
    "    theta=np.matrix(theta)\n",
    "    parameters = int(theta.shape[1])\n",
    "    grad = np.zeros(parameters)\n",
    "    \n",
    "    error = sigmoid(X * theta.T) - y\n",
    "    \n",
    "    for i in range(parameters):\n",
    "        \n",
    "        if (i == 0):\n",
    "            grad[i] = np.sum(np.multiply(error, np.matrix(X[:,i]).T)) / M\n",
    "        else:\n",
    "            grad[i] = (np.sum(np.multiply(error, np.matrix(X[:,i]).T)) / M) \n",
    "            grad[i] += (reg_scale * theta[:,i] / M)\n",
    "    \n",
    "    return grad"
   ]
  },
  {
   "cell_type": "markdown",
   "metadata": {},
   "source": [
    "I have included an if statement in the gradient calculation which avoids regularizing the bias term."
   ]
  },
  {
   "cell_type": "code",
   "execution_count": 52,
   "metadata": {},
   "outputs": [
    {
     "data": {
      "text/plain": [
       "array([0.34604507, 0.08508073, 0.11852457, 0.1505916 , 0.01591449,\n",
       "       0.16811439, 0.06712094, 0.03217053, 0.02604321, 0.10719727,\n",
       "       0.09725885, 0.01098433, 0.04195657, 0.00957212, 0.12367776,\n",
       "       0.05895534, 0.01870409, 0.01729323, 0.02352665, 0.01513039,\n",
       "       0.09858123, 0.07328323, 0.01051447, 0.02270567, 0.00904832,\n",
       "       0.02563548, 0.00823079, 0.10601204])"
      ]
     },
     "execution_count": 52,
     "metadata": {},
     "output_type": "execute_result"
    }
   ],
   "source": [
    "Regularized_Gradient(theta, X, y, 1)"
   ]
  },
  {
   "cell_type": "markdown",
   "metadata": {},
   "source": [
    "<a id=\"opt2\"></a>\n",
    "# Finding the Optimal Model Parameters"
   ]
  },
  {
   "cell_type": "code",
   "execution_count": 53,
   "metadata": {},
   "outputs": [
    {
     "data": {
      "text/plain": [
       "     fun: 0.5290027297445772\n",
       "     jac: array([ 8.45222178e-08, -9.29970655e-07, -2.06666060e-07,  3.21329701e-07,\n",
       "       -1.38270147e-07, -2.07703990e-07, -4.23808363e-07,  1.55632651e-07,\n",
       "       -4.53215445e-08, -2.41372575e-07,  3.03267104e-07, -5.04976970e-08,\n",
       "        2.36283776e-07,  8.23622646e-11,  2.29393391e-08, -3.40841758e-07,\n",
       "       -4.16539275e-09, -1.68027167e-08,  1.06755703e-07,  5.84578486e-08,\n",
       "       -2.11921153e-07,  1.97399227e-07, -5.59518431e-08,  1.39789220e-07,\n",
       "       -3.17202377e-08,  2.39144154e-08,  3.51117671e-08,  1.10228540e-07])\n",
       " message: 'Converged (|f_n-f_(n-1)| ~= 0)'\n",
       "    nfev: 39\n",
       "     nit: 8\n",
       "  status: 1\n",
       " success: True\n",
       "       x: array([ 1.27273509,  0.62525435,  1.18108521, -2.01994882, -0.91742555,\n",
       "       -1.43167368,  0.12399628, -0.36552234, -0.35723208, -0.17514253,\n",
       "       -1.4581339 , -0.05098852, -0.61553085, -0.27470069, -1.19280263,\n",
       "       -0.24220871, -0.20601057, -0.04472766, -0.2777735 , -0.29536755,\n",
       "       -0.45637086, -1.04318579,  0.02776829, -0.29241701,  0.01556523,\n",
       "       -0.32737793, -0.14388044, -0.92463148])"
      ]
     },
     "execution_count": 53,
     "metadata": {},
     "output_type": "execute_result"
    }
   ],
   "source": [
    "result = opt.minimize(fun=Regularized_Cost, x0=theta, args=(X,y,1), method='TNC', \\\n",
    "                      jac=Regularized_Gradient, options={'maxiter':1000})\n",
    "result"
   ]
  },
  {
   "cell_type": "code",
   "execution_count": 54,
   "metadata": {},
   "outputs": [
    {
     "data": {
      "text/plain": [
       "83.05084745762711"
      ]
     },
     "execution_count": 54,
     "metadata": {},
     "output_type": "execute_result"
    }
   ],
   "source": [
    "pred = predict(np.matrix(result.x), X)\n",
    "np.mean(pred == y.flatten()) * 100"
   ]
  },
  {
   "cell_type": "code",
   "execution_count": 55,
   "metadata": {},
   "outputs": [
    {
     "name": "stdout",
     "output_type": "stream",
     "text": [
      " \n",
      "Accuracy: 0.83; Precision: 0.78; Recall: 0.91; F1 Score: 0.84\n",
      " \n"
     ]
    }
   ],
   "source": [
    "lr_predictions = predict(np.matrix(result.x), X)\n",
    "acc, prec, rec, f1 = get_metrics(y, lr_predictions)\n",
    "print(' ')\n",
    "print('Accuracy: {:.2}; Precision: {:.2}; Recall: {:.2}; F1 Score: {:.2}'.format(acc, prec, rec, f1))\n",
    "print(' ')"
   ]
  },
  {
   "cell_type": "markdown",
   "metadata": {},
   "source": [
    "<a id=\"sklearn2\"></a>\n",
    "# Non-linear Logistic Regression with sklearn"
   ]
  },
  {
   "cell_type": "code",
   "execution_count": 56,
   "metadata": {},
   "outputs": [
    {
     "data": {
      "text/plain": [
       "((118, 28), (118,), (28,))"
      ]
     },
     "execution_count": 56,
     "metadata": {},
     "output_type": "execute_result"
    }
   ],
   "source": [
    "X = np.matrix(data.iloc[:,:-1])\n",
    "\n",
    "poly = PolynomialFeatures(6)\n",
    "X = poly.fit_transform(X)\n",
    "\n",
    "# convert the target variables from the DataFrame into a numpy array\n",
    "# notice that for the Gradient and Cost functions, y is an mx1 matrix\n",
    "# for sklearn, it needs to be an array of length m\n",
    "y = np.array(data.iloc[:,-1]).T \n",
    "\n",
    "#Initialize theta\n",
    "theta = np.zeros(X.shape[1])\n",
    "\n",
    "X.shape, y.shape, theta.shape"
   ]
  },
  {
   "cell_type": "code",
   "execution_count": 57,
   "metadata": {},
   "outputs": [
    {
     "data": {
      "text/plain": [
       "(0.0, array([[ 1.14213575,  0.60132186,  1.16718326, -1.87174359, -0.91573503,\n",
       "         -1.26953757,  0.12668235, -0.3687234 , -0.3451782 , -0.17377628,\n",
       "         -1.42386177, -0.04856119, -0.6064216 , -0.26932201, -1.16315301,\n",
       "         -0.24310264, -0.20706754, -0.0431884 , -0.28028106, -0.28695055,\n",
       "         -0.46910709, -1.03618515,  0.02923411, -0.29262323,  0.01736154,\n",
       "         -0.32897195, -0.13796124, -0.93198618]]))"
      ]
     },
     "execution_count": 57,
     "metadata": {},
     "output_type": "execute_result"
    }
   ],
   "source": [
    "clf = LogisticRegression(C=1, solver='newton-cg', fit_intercept=False).fit(X, y)\n",
    "\n",
    "clf.intercept_[0], clf.coef_"
   ]
  },
  {
   "cell_type": "code",
   "execution_count": 58,
   "metadata": {},
   "outputs": [
    {
     "name": "stdout",
     "output_type": "stream",
     "text": [
      " \n",
      "Accuracy: 0.82; Precision: 0.78; Recall: 0.9; F1 Score: 0.83\n",
      " \n"
     ]
    }
   ],
   "source": [
    "y_pred = clf.predict(X)\n",
    "acc, prec, rec, f1 = get_metrics(y, y_pred)\n",
    "print(' ')\n",
    "print('Accuracy: {:.2}; Precision: {:.2}; Recall: {:.2}; F1 Score: {:.2}'.format(acc, prec, rec, f1))\n",
    "print(' ')"
   ]
  },
  {
   "cell_type": "code",
   "execution_count": 59,
   "metadata": {},
   "outputs": [
    {
     "data": {
      "text/plain": [
       "0.8220338983050848"
      ]
     },
     "execution_count": 59,
     "metadata": {},
     "output_type": "execute_result"
    }
   ],
   "source": [
    "clf.score(X,y)"
   ]
  },
  {
   "cell_type": "markdown",
   "metadata": {},
   "source": [
    "<a id=\"rs\"></a>\n",
    "# Tuning the Regularization Strength"
   ]
  },
  {
   "cell_type": "code",
   "execution_count": 60,
   "metadata": {},
   "outputs": [],
   "source": [
    "cs = np.logspace(-3,4,100)\n",
    "accs = []\n",
    "\n",
    "for c in cs:\n",
    "    clf = LogisticRegression(C=c, solver='newton-cg', fit_intercept=False).fit(X, y)\n",
    "    accs.append(clf.score(X, y))"
   ]
  },
  {
   "cell_type": "code",
   "execution_count": 61,
   "metadata": {},
   "outputs": [
    {
     "data": {
      "image/png": "[encoded data removed]",
      "text/plain": [
       "<Figure size 432x288 with 1 Axes>"
      ]
     },
     "metadata": {
      "needs_background": "light"
     },
     "output_type": "display_data"
    }
   ],
   "source": [
    "fig, ax = plt.subplots()\n",
    "plt.plot(cs, accs)\n",
    "ax.set_xscale('log')"
   ]
  },
  {
   "cell_type": "markdown",
   "metadata": {},
   "source": [
    "In sklearn, $C$ is the inverse regularization rate (i.e. $C \\sim 1/\\lambda$). When $C$ is very small, this means that the regularization is actually very strong, this makes the bias term dominate and variance is heavily reduced (the bias/variance tradeoff). For that reason the accuracy is not great. In the opposite limit (large $C$), the regularization is reduced and the model overfits.\n",
    "<a id=\"pdo\"></a>\n",
    "# Polynomial Degree and Overfitting"
   ]
  },
  {
   "cell_type": "code",
   "execution_count": 62,
   "metadata": {},
   "outputs": [],
   "source": [
    "X = np.matrix(data.iloc[:,:-1])\n",
    "\n",
    "# convert the target variables from the DataFrame into a numpy matrix\n",
    "# notice that for the Gradient and Cost functions, this NEEDS TO BE A MATRIX mx1\n",
    "# (for sklearn, it needs to be an array of length m)\n",
    "y = np.array(data.iloc[:,-1]).T \n",
    "\n",
    "\n",
    "\n",
    "poly_orders = range(1,60)\n",
    "c_strong = 10000 # weak regularization \n",
    "c_weak = .01 # weak regularization \n",
    "\n",
    "accs_strong = []\n",
    "accs_weak = []\n",
    "\n",
    "\n",
    "for p in poly_orders:\n",
    "    poly = PolynomialFeatures(p)\n",
    "    X_poly = poly.fit_transform(X)\n",
    "    \n",
    "    clf = LogisticRegression(C=c_strong, solver='newton-cg', fit_intercept=False).fit(X_poly, y)\n",
    "    accs_strong.append(clf.score(X_poly, y))\n",
    "    \n",
    "    clf = LogisticRegression(C=c_weak, solver='newton-cg', fit_intercept=False).fit(X_poly, y)\n",
    "    accs_weak.append(clf.score(X_poly, y))\n",
    "\n"
   ]
  },
  {
   "cell_type": "code",
   "execution_count": 63,
   "metadata": {},
   "outputs": [
    {
     "data": {
      "text/plain": [
       "Text(0, 0.5, 'Accuracy')"
      ]
     },
     "execution_count": 63,
     "metadata": {},
     "output_type": "execute_result"
    },
    {
     "data": {
      "image/png": "[encoded data removed]",
      "text/plain": [
       "<Figure size 720x432 with 1 Axes>"
      ]
     },
     "metadata": {
      "needs_background": "light"
     },
     "output_type": "display_data"
    }
   ],
   "source": [
    "fig, ax = plt.subplots(figsize=(10,6))\n",
    "plt.plot(poly_orders, accs_strong, '-o', label='C = 10000')\n",
    "plt.plot(poly_orders, accs_weak, '-o', color=cp[3], label='C = 0.01')\n",
    "ax.set_xlim((0,60))\n",
    "ax.set_ylim((.3,1))\n",
    "ax.legend()\n",
    "ax.set_xlabel('Polynomial Feature Order')\n",
    "ax.set_ylabel('Accuracy')"
   ]
  }
 ],
 "metadata": {
  "kernelspec": {
   "display_name": "Python 3",
   "language": "python",
   "name": "python3"
  },
  "language_info": {
   "codemirror_mode": {
    "name": "ipython",
    "version": 3
   },
   "file_extension": ".py",
   "mimetype": "text/x-python",
   "name": "python",
   "nbconvert_exporter": "python",
   "pygments_lexer": "ipython3",
   "version": "3.7.2"
  }
 },
 "nbformat": 4,
 "nbformat_minor": 2
}
