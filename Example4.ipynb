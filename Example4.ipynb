{
 "cells": [
  {
   "cell_type": "markdown",
   "metadata": {},
   "source": [
    "Author: Adrian Swartz<br>\n",
    "Date: 3/29/2019\n",
    "\n",
    "\n",
    "# Solutions to Andew Ng's coursera problems\n",
    "## Example 4: Neural Networks\n",
    "\n",
    "Andrew Ng's course is designed for the solutions to be worked through in Octave (similar to matlab). However, I am going to do these problems in python (within a jupyter notebook) and demonstrate how various approaches can be implemented in python.\n",
    "\n",
    "This notebook is structured as follows:<br>\n",
    "[Neural Networkds](#Part1)\n",
    "1. [Exploratory Data Analysis](#eda)\n",
    "2. [The Activation and Forwards/Back Propogation Functions](#funcs)\n",
    "3. [Optimizing for Best Model Paramaeters](#opt)\n",
    "4. [Model Evaluation](#me)\n",
    "\n",
    "\n",
    "\n",
    "***\n",
    "\n",
    "For this exercise, we will import several python packages: NumPy (numerical python for matrix manupulations and advanced math), pandas (DataFrames offer a useful platform for importing data and performing exploratory data analysis), matplotlib and seaborn for data visualization."
   ]
  },
  {
   "cell_type": "code",
   "execution_count": 1,
   "metadata": {},
   "outputs": [],
   "source": [
    "# import standard packages\n",
    "import numpy as np\n",
    "import pandas as pd\n",
    "import matplotlib.pyplot as plt\n",
    "%matplotlib inline\n",
    "\n",
    "import seaborn as sns\n",
    "cp=sns.color_palette()\n",
    "\n",
    "# import a few special packages we'll use for this example\n",
    "from scipy.io import loadmat\n",
    "\n",
    "from sklearn.preprocessing import OneHotEncoder\n",
    "\n",
    "from scipy.optimize import minimize\n",
    "\n",
    "from sklearn.metrics import accuracy_score, f1_score, precision_score, recall_score\n",
    "from sklearn.metrics import confusion_matrix\n"
   ]
  },
  {
   "cell_type": "markdown",
   "metadata": {},
   "source": [
    "<a id=\"Part1\"></a>\n",
    "# Part 1 - Multi-Class Logistic Regression\n",
    "\n",
    "Prompt:<br>\n",
    "Use logistic regression and neural networks to recognize handwritten digits (from 0 to 9). Automated handwritten digit recognition is widely used today - from recognizing zip codes (postal codes) on mail envelopes to recognizing amounts written on bank checks. This exercise will show you how the methods you’ve learned can be used for this classification task.\n",
    "In the first part of the exercise, you will extend your previous implemen- tion of logistic regression and apply it to one-vs-all classification.\n",
    "\n",
    "***\n",
    "\n",
    "\n",
    "OK. Let's dive into the data and begin building the frameworks for multi-class logistic regression.\n",
    "\n",
    "<a id=\"eda\"></a>\n",
    "# Exploratory Data Analysis"
   ]
  },
  {
   "cell_type": "code",
   "execution_count": 2,
   "metadata": {},
   "outputs": [
    {
     "data": {
      "text/plain": [
       "{'__header__': b'MATLAB 5.0 MAT-file, Platform: GLNXA64, Created on: Sun Oct 16 13:09:09 2011',\n",
       " '__version__': '1.0',\n",
       " '__globals__': [],\n",
       " 'X': array([[0., 0., 0., ..., 0., 0., 0.],\n",
       "        [0., 0., 0., ..., 0., 0., 0.],\n",
       "        [0., 0., 0., ..., 0., 0., 0.],\n",
       "        ...,\n",
       "        [0., 0., 0., ..., 0., 0., 0.],\n",
       "        [0., 0., 0., ..., 0., 0., 0.],\n",
       "        [0., 0., 0., ..., 0., 0., 0.]]),\n",
       " 'y': array([[10],\n",
       "        [10],\n",
       "        [10],\n",
       "        ...,\n",
       "        [ 9],\n",
       "        [ 9],\n",
       "        [ 9]], dtype=uint8)}"
      ]
     },
     "execution_count": 2,
     "metadata": {},
     "output_type": "execute_result"
    }
   ],
   "source": [
    "data = loadmat('ex3/ex3data1.mat')\n",
    "data"
   ]
  },
  {
   "cell_type": "code",
   "execution_count": 3,
   "metadata": {},
   "outputs": [
    {
     "data": {
      "text/plain": [
       "((5000, 400), (5000, 1))"
      ]
     },
     "execution_count": 3,
     "metadata": {},
     "output_type": "execute_result"
    }
   ],
   "source": [
    "data['X'].shape, data['y'].shape"
   ]
  },
  {
   "cell_type": "code",
   "execution_count": 4,
   "metadata": {
    "scrolled": true
   },
   "outputs": [
    {
     "data": {
      "image/png": "[encoded data removed]",
      "text/plain": [
       "<Figure size 432x288 with 5 Axes>"
      ]
     },
     "metadata": {},
     "output_type": "display_data"
    }
   ],
   "source": [
    "def plot_several(data):\n",
    "    N = 5\n",
    "    \n",
    "    for i in range(1,N+1):\n",
    "        r = np.random.randint(0,5000)\n",
    "        ex = np.reshape(data['X'][r], (20,20))\n",
    "        ex= ex.T\n",
    "        plt.subplot(1,N,i)\n",
    "        plt.xticks([])\n",
    "        plt.yticks([])\n",
    "        plt.imshow(ex)\n",
    "\n",
    "    plt.tight_layout(pad=-.5)\n",
    "    return None\n",
    "\n",
    "plot_several(data)"
   ]
  },
  {
   "cell_type": "markdown",
   "metadata": {},
   "source": [
    "<a id=\"prep\"></a>\n",
    "# Preparing the Training and Target Data"
   ]
  },
  {
   "cell_type": "code",
   "execution_count": 5,
   "metadata": {},
   "outputs": [
    {
     "data": {
      "text/plain": [
       "((5000, 400), (5000, 1))"
      ]
     },
     "execution_count": 5,
     "metadata": {},
     "output_type": "execute_result"
    }
   ],
   "source": [
    "X = data['X']\n",
    "# I'm not adding the bias layer here because we will add it as part of the Neural Network algorithm\n",
    "\n",
    "y = data['y']\n",
    "\n",
    "X.shape, y.shape\n"
   ]
  },
  {
   "cell_type": "markdown",
   "metadata": {},
   "source": [
    "For the neural network, we need to one-hot encode our target labels. Conveniently, sklearn can do this for you! (Sensing a theme?)  One-hot encoding turns a class label n (out of k classes) into a vector of length k where index n is \"hot\" (1) while the rest are zero. For more information check out the sklearn documentation on [one-hot-encoding](https://scikit-learn.org/stable/modules/generated/sklearn.preprocessing.OneHotEncoder.html)"
   ]
  },
  {
   "cell_type": "code",
   "execution_count": 6,
   "metadata": {},
   "outputs": [
    {
     "data": {
      "text/plain": [
       "(5000, 10)"
      ]
     },
     "execution_count": 6,
     "metadata": {},
     "output_type": "execute_result"
    }
   ],
   "source": [
    "encoder = OneHotEncoder(sparse=False, categories='auto')\n",
    "y_onehot = encoder.fit_transform(y)\n",
    "y_onehot.shape"
   ]
  },
  {
   "cell_type": "code",
   "execution_count": 7,
   "metadata": {},
   "outputs": [
    {
     "data": {
      "text/plain": [
       "(array([0., 0., 0., 1., 0., 0., 0., 0., 0., 0.]), 4)"
      ]
     },
     "execution_count": 7,
     "metadata": {},
     "output_type": "execute_result"
    }
   ],
   "source": [
    "y_onehot[2000,:], y[2000,0]\n",
    "# looks good. "
   ]
  },
  {
   "cell_type": "markdown",
   "metadata": {},
   "source": [
    "<a id=\"funcs\"></a>\n",
    "# The Activation and Forwards/Back Propogation Functions\n",
    "\n",
    "Before we get going too far building our froward and back propogation functions, we need to make sure we have all the matrix shapes figured out and have the right understanding of matrix multiplication.  With these figured out, implementing the functions is straightforward."
   ]
  },
  {
   "cell_type": "code",
   "execution_count": 8,
   "metadata": {},
   "outputs": [
    {
     "data": {
      "text/plain": [
       "((5000, 400), (5000, 10))"
      ]
     },
     "execution_count": 8,
     "metadata": {},
     "output_type": "execute_result"
    }
   ],
   "source": [
    "X.shape, y_onehot.shape"
   ]
  },
  {
   "cell_type": "code",
   "execution_count": 9,
   "metadata": {},
   "outputs": [],
   "source": [
    "# initialize meta paramters\n",
    "M = len(X)                      # 5000 training examples\n",
    "num_features = X.shape[1]         # 400 features\n",
    "hidden_layer_size = 25          # We are choosing the hidden layer to have 25 nodes\n",
    "num_labels = len(np.unique(y))  # There are 10 labels\n",
    "reg_scale = 1                   # Manually setting the regularization\n",
    "\n",
    "X = np.matrix(X)\n",
    "y = np.matrix(y)"
   ]
  },
  {
   "cell_type": "code",
   "execution_count": 10,
   "metadata": {},
   "outputs": [
    {
     "data": {
      "text/plain": [
       "(10285,)"
      ]
     },
     "execution_count": 10,
     "metadata": {},
     "output_type": "execute_result"
    }
   ],
   "source": [
    "# randomly initialize a parameter array of the size of the full network's parameters\n",
    "params = (np.random.random(size=hidden_layer_size * \\\n",
    "                (num_features + 1) + num_labels * (hidden_layer_size + 1)) - 0.5) * 0.25\n",
    "params.shape"
   ]
  },
  {
   "cell_type": "code",
   "execution_count": 11,
   "metadata": {},
   "outputs": [
    {
     "data": {
      "text/plain": [
       "((25, 401), (10, 26))"
      ]
     },
     "execution_count": 11,
     "metadata": {},
     "output_type": "execute_result"
    }
   ],
   "source": [
    "# bundle the parameter array into parameter matrices for each layer\n",
    "# plus ones are for the bias term which we will take care of in the propogation functions\n",
    "theta1 = np.matrix(np.reshape(params[:hidden_layer_size * (num_features + 1)], (hidden_layer_size, (num_features + 1))))\n",
    "theta2 = np.matrix(np.reshape(params[hidden_layer_size * (num_features + 1):], (num_labels, (hidden_layer_size + 1))))\n",
    "\n",
    "theta1.shape, theta2.shape"
   ]
  },
  {
   "cell_type": "markdown",
   "metadata": {},
   "source": [
    "Good! Our matrices have the right shape. In addition, we have randomly initialized them to some finite value. We don't want to initialize our model paramter matrices to zero for neural networks.\n",
    "\n",
    "Let's write our functions."
   ]
  },
  {
   "cell_type": "code",
   "execution_count": 12,
   "metadata": {},
   "outputs": [],
   "source": [
    "def sigmoid(z):\n",
    "    return 1 / (1 + np.exp(-z))"
   ]
  },
  {
   "cell_type": "code",
   "execution_count": 13,
   "metadata": {},
   "outputs": [],
   "source": [
    "def Forward_Prop(X, theta1, theta2):\n",
    "    \"\"\"\n",
    "    X should be a matrix without bias terms added\n",
    "    theta1 and theta2 are the model parameters matrices\n",
    "    \n",
    "    returns the activation layer matrices (the a's) and the transfer matrices (the z's)\n",
    "    return the final hypothesis of the neural network\n",
    "    \"\"\"\n",
    "    M = len(X)\n",
    "    \n",
    "    a1 = np.insert(X, 0, values=np.ones(M), axis=1) #add bias term\n",
    "    z2 = a1 * theta1.T\n",
    "    a2 = np.insert(sigmoid(z2), 0, values=np.ones(M), axis=1) # add bias term\n",
    "    z3 = a2 * theta2.T\n",
    "    h = sigmoid(z3)\n",
    "    \n",
    "    return a1, z2, a2, z3, h"
   ]
  },
  {
   "cell_type": "markdown",
   "metadata": {},
   "source": [
    "Let's double check that this gives us matrix shapes that make sense."
   ]
  },
  {
   "cell_type": "code",
   "execution_count": 14,
   "metadata": {},
   "outputs": [
    {
     "data": {
      "text/plain": [
       "((5000, 401), (5000, 25), (5000, 26), (5000, 10), (5000, 10))"
      ]
     },
     "execution_count": 14,
     "metadata": {},
     "output_type": "execute_result"
    }
   ],
   "source": [
    "a1, z2, a2, z3, h = Forward_Prop(X, theta1, theta2)\n",
    "a1.shape, z2.shape, a2.shape, z3.shape, h.shape"
   ]
  },
  {
   "cell_type": "markdown",
   "metadata": {},
   "source": [
    "Great! Let's write the cost funciton next. The cost function computes the total error between y_onehot and h."
   ]
  },
  {
   "cell_type": "code",
   "execution_count": 15,
   "metadata": {},
   "outputs": [],
   "source": [
    "def Reg_Cost(params, num_features, hidden_layer_size, num_labels, X, y, reg_scale):\n",
    "    \"\"\"\n",
    "    X should already be a matrix, without the bias term included\n",
    "    \"\"\"\n",
    "    M = len(X)\n",
    "\n",
    "    # bundle the parameter array into parameter matrices for each layer\n",
    "    # plus ones are for the bias term which we will take care of in the propogation functions\n",
    "    theta1 = np.matrix(np.reshape(params[:hidden_layer_size * (num_features + 1)], \\\n",
    "                                  (hidden_layer_size, (num_features + 1))))\n",
    "    theta2 = np.matrix(np.reshape(params[hidden_layer_size * (num_features + 1):], \\\n",
    "                                  (num_labels, (hidden_layer_size + 1))))\n",
    "\n",
    "    # run forward propogation\n",
    "    a1, z2, a2, z3, h = Forward_Prop(X, theta1, theta2)\n",
    "    \n",
    "    # compute the cost and sum over all training examples\n",
    "    J = 0\n",
    "    for i in range(M):\n",
    "        # Logistic activation function, so Logistic cost function\n",
    "        a = np.multiply(-y[i,:], np.log(h[i,:]))\n",
    "        b = np.multiply((1 - y[i,:]), np.log(1 - h[i,:]))\n",
    "        J += np.sum(a - b)\n",
    "    \n",
    "    J = J / M\n",
    "    \n",
    "    #Include regularization\n",
    "    J += (reg_scale/(2 * M)) * (np.sum(np.power(theta1[:,1:], 2)) + np.sum(np.power(theta2[:,1:], 2)))\n",
    "    \n",
    "    return J"
   ]
  },
  {
   "cell_type": "code",
   "execution_count": 16,
   "metadata": {},
   "outputs": [
    {
     "data": {
      "text/plain": [
       "6.995653654167933"
      ]
     },
     "execution_count": 16,
     "metadata": {},
     "output_type": "execute_result"
    }
   ],
   "source": [
    "# randomly initialize a parameter array of the size of the full network's parameters\n",
    "params = (np.random.random(size=hidden_layer_size * \\\n",
    "                (num_features + 1) + num_labels * (hidden_layer_size + 1)) - 0.5) * 0.25\n",
    "#Calculate the cost for this random initialization\n",
    "Reg_Cost(params, num_features, hidden_layer_size, num_labels, X, y_onehot, reg_scale)"
   ]
  },
  {
   "cell_type": "markdown",
   "metadata": {},
   "source": [
    "Well, that's a number. Our regularized cost function appears to work! \n",
    "\n",
    "Next, we need to write the back propogation function. The backprop algorithm requires the gradient of the sigmoid function."
   ]
  },
  {
   "cell_type": "code",
   "execution_count": 17,
   "metadata": {},
   "outputs": [],
   "source": [
    "def SigGrad(z):\n",
    "    return np.multiply(sigmoid(z), (1 - sigmoid(z)))"
   ]
  },
  {
   "cell_type": "markdown",
   "metadata": {},
   "source": [
    "Now the hard part - Regularized backpropogation!"
   ]
  },
  {
   "cell_type": "code",
   "execution_count": 18,
   "metadata": {},
   "outputs": [],
   "source": [
    "def Back_Prop(params, num_features, hidden_layer_size, num_labels, X, y, reg_scale):\n",
    "    M = len(X)\n",
    "    \n",
    "    # bundle the parameter array into parameter matrices for each layer\n",
    "    # plus ones are for the bias term which we will take care of in the propogation functions\n",
    "    theta1 = np.matrix(np.reshape(params[:hidden_layer_size * (num_features + 1)], \\\n",
    "                                  (hidden_layer_size, (num_features + 1))))\n",
    "    theta2 = np.matrix(np.reshape(params[hidden_layer_size * (num_features + 1):], \\\n",
    "                                  (num_labels, (hidden_layer_size + 1))))\n",
    "    \n",
    "    # run forward propogation\n",
    "    a1, z2, a2, z3, h = Forward_Prop(X, theta1, theta2)\n",
    "\n",
    "    # compute the cost\n",
    "    J = 0 #initialize cost to zero\n",
    "    for i in range(M):\n",
    "        # Logistic activation function, so Logistic cost function\n",
    "        a = np.multiply(-y[i,:], np.log(h[i,:]))\n",
    "        b = np.multiply((1 - y[i,:]), np.log(1 - h[i,:]))\n",
    "        J += np.sum(a - b)\n",
    "    J = J / M\n",
    "    #Include regularization\n",
    "    J += (reg_scale/(2 * M)) * (np.sum(np.power(theta1[:,1:], 2)) + np.sum(np.power(theta2[:,1:], 2)))\n",
    "    #End of cost calculation\n",
    "    \n",
    "    \n",
    "    # initialize backprop matrices\n",
    "    delta1 = np.zeros(theta1.shape)  # (25, 401)\n",
    "    delta2 = np.zeros(theta2.shape)  # (10, 26)\n",
    "    \n",
    "    # perform backpropagation\n",
    "    for t in range(M):\n",
    "        a1t = a1[t,:]  # (1, 401)\n",
    "        z2t = z2[t,:]  # (1, 25)\n",
    "        a2t = a2[t,:]  # (1, 26)\n",
    "        ht = h[t,:]  # (1, 10)\n",
    "        yt = y[t,:]  # (1, 10)\n",
    "        \n",
    "        d3t = ht - yt  # (1, 10)\n",
    "        \n",
    "        z2t = np.insert(z2t, 0, values=np.ones(1))  # (1, 26)\n",
    "        d2t = np.multiply((theta2.T * d3t.T).T, SigGrad(z2t))  # (1, 26)\n",
    "        \n",
    "        delta1 = delta1 + (d2t[:,1:]).T * a1t\n",
    "        delta2 = delta2 + d3t.T * a2t\n",
    "        \n",
    "    delta1 = delta1 / M\n",
    "    delta2 = delta2 / M\n",
    "    \n",
    "    # add the gradient regularization term\n",
    "    delta1[:,1:] = delta1[:,1:] + (theta1[:,1:] * reg_scale) / M\n",
    "    delta2[:,1:] = delta2[:,1:] + (theta2[:,1:] * reg_scale) / M\n",
    "    \n",
    "    # flatten the gradient matrices into a single array\n",
    "    grad = np.concatenate((np.ravel(delta1), np.ravel(delta2)))\n",
    "    \n",
    "    return J, grad"
   ]
  },
  {
   "cell_type": "code",
   "execution_count": 20,
   "metadata": {},
   "outputs": [
    {
     "data": {
      "text/plain": [
       "(7.101090261559295, (10285,))"
      ]
     },
     "execution_count": 20,
     "metadata": {},
     "output_type": "execute_result"
    }
   ],
   "source": [
    "# initialize meta paramters\n",
    "M = len(X)                      # 5000 training examples\n",
    "num_features = X.shape[1]       # 400 features\n",
    "hidden_layer_size = 25          # We are choosing the hidden layer to have 25 nodes\n",
    "num_labels = len(np.unique(y))  # There are 10 labels\n",
    "reg_scale = 1                   # Manually setting the regularization\n",
    "\n",
    "# Make sure the X, y_onehot are the right matrices\n",
    "X = np.matrix(data['X'])\n",
    "y = data['y']\n",
    "y_onehot = np.matrix(encoder.fit_transform(y))\n",
    "\n",
    "# randomly initialize a parameter array of the size of the full network's parameters\n",
    "params = (np.random.random(size=hidden_layer_size * \\\n",
    "                (num_features + 1) + num_labels * (hidden_layer_size + 1)) - 0.5) * 0.25\n",
    "\n",
    "J, grad = Back_Prop(params, num_features, hidden_layer_size, num_labels, X, y_onehot, reg_scale)\n",
    "J, grad.shape"
   ]
  },
  {
   "cell_type": "markdown",
   "metadata": {},
   "source": [
    "OK! Now let's find the best parameters for theta1 and theta2 by minimizing the Back_Prop function.\n",
    "<a id=\"opt\"></a>\n",
    "# Optimizing for Best Model Paramaeters "
   ]
  },
  {
   "cell_type": "code",
   "execution_count": 21,
   "metadata": {},
   "outputs": [
    {
     "data": {
      "text/plain": [
       "     fun: 0.3128293355199887\n",
       "     jac: array([ 1.81265052e-04, -1.16513187e-08,  8.62987072e-09, ...,\n",
       "        6.34760122e-05,  1.88919550e-05,  2.39106196e-05])\n",
       " message: 'Max. number of function evaluations reached'\n",
       "    nfev: 500\n",
       "     nit: 32\n",
       "  status: 3\n",
       " success: False\n",
       "       x: array([-4.52054987e-01, -5.82565937e-05,  4.31493536e-05, ...,\n",
       "        1.43411706e+00,  1.48161769e+00, -1.60150202e+00])"
      ]
     },
     "execution_count": 21,
     "metadata": {},
     "output_type": "execute_result"
    }
   ],
   "source": [
    "\n",
    "# minimize the objective function\n",
    "fmin = minimize(fun=Back_Prop, x0=params, \\\n",
    "                args=(num_features, hidden_layer_size, num_labels, X, y_onehot, reg_scale), \\\n",
    "                method='TNC', jac=True, options={'maxiter': 500})\n",
    "fmin\n"
   ]
  },
  {
   "cell_type": "markdown",
   "metadata": {},
   "source": [
    "Well, that took a long time to complete. And in the end I had to set maximum iterations to 500 to keep it from taking forever. Even with limiting the number of  It spit out some model parameters. Note that these model parameters are flattened out and we have to reshape them into theta1 and theta2. This is an annoying feature of the scipy minimize function, but it really has no understanding that I want to solve a neural network problem. It's up to me to figure out how to correctly write the Back_prop function to return the flattened gradient array.\n",
    "<a id=\"me\"></a>\n",
    "# Model Evaluation"
   ]
  },
  {
   "cell_type": "code",
   "execution_count": 22,
   "metadata": {},
   "outputs": [
    {
     "data": {
      "text/plain": [
       "array([[10],\n",
       "       [10],\n",
       "       [10],\n",
       "       ...,\n",
       "       [ 9],\n",
       "       [ 9],\n",
       "       [ 9]])"
      ]
     },
     "execution_count": 22,
     "metadata": {},
     "output_type": "execute_result"
    }
   ],
   "source": [
    "X = np.matrix(data['X'])\n",
    "\n",
    "theta1 = np.matrix(np.reshape(fmin.x[:hidden_layer_size * (num_features + 1)], \\\n",
    "                              (hidden_layer_size, (num_features + 1))))\n",
    "theta2 = np.matrix(np.reshape(fmin.x[hidden_layer_size * (num_features + 1):], \\\n",
    "                              (num_labels, (hidden_layer_size + 1))))\n",
    "\n",
    "a1, z2, a2, z3, h = Forward_Prop(X, theta1, theta2)\n",
    "y_pred = np.array(np.argmax(h, axis=1) + 1)\n",
    "y_pred"
   ]
  },
  {
   "cell_type": "code",
   "execution_count": 23,
   "metadata": {},
   "outputs": [
    {
     "data": {
      "text/plain": [
       "((5000, 1), (5000, 1))"
      ]
     },
     "execution_count": 23,
     "metadata": {},
     "output_type": "execute_result"
    }
   ],
   "source": [
    "y.shape, y_pred.shape"
   ]
  },
  {
   "cell_type": "code",
   "execution_count": 27,
   "metadata": {},
   "outputs": [
    {
     "name": "stdout",
     "output_type": "stream",
     "text": [
      " \n",
      "Accuracy: 0.9966\n",
      " \n"
     ]
    }
   ],
   "source": [
    "acc = accuracy_score(y, y_pred)\n",
    "print(' ')\n",
    "print('Accuracy: {:.4}'.format(acc))\n",
    "print(' ')"
   ]
  },
  {
   "cell_type": "code",
   "execution_count": 25,
   "metadata": {},
   "outputs": [
    {
     "data": {
      "text/plain": [
       "<matplotlib.axes._subplots.AxesSubplot at 0x10985f6d8>"
      ]
     },
     "execution_count": 25,
     "metadata": {},
     "output_type": "execute_result"
    },
    {
     "data": {
      "image/png": "[encoded data removed]",
      "text/plain": [
       "<Figure size 720x576 with 2 Axes>"
      ]
     },
     "metadata": {
      "needs_background": "light"
     },
     "output_type": "display_data"
    }
   ],
   "source": [
    "# Plot confusion matrix for C=1 regularization\n",
    "conf = confusion_matrix(y, y_pred)\n",
    "\n",
    "indices = range(1,11)\n",
    "cols = range(1,11)\n",
    "\n",
    "df_cm = pd.DataFrame(conf.astype(int), index = indices,\n",
    "                  columns = cols)\n",
    "plt.figure(figsize = (10,8))\n",
    "sns.heatmap(df_cm, annot=True, cmap=\"YlGnBu\")"
   ]
  },
  {
   "cell_type": "markdown",
   "metadata": {},
   "source": [
    "Pretty incredible, right? The it takes a lot longer to train the neural network than logistic regression, but the model performance is quite a bit better.  It's probably overfitting, even with finite L2 regularization. But I'm not going to take the time to re-run it on a learning curve with a proper train/test split. "
   ]
  },
  {
   "cell_type": "code",
   "execution_count": null,
   "metadata": {},
   "outputs": [],
   "source": []
  }
 ],
 "metadata": {
  "kernelspec": {
   "display_name": "Python 3",
   "language": "python",
   "name": "python3"
  },
  "language_info": {
   "codemirror_mode": {
    "name": "ipython",
    "version": 3
   },
   "file_extension": ".py",
   "mimetype": "text/x-python",
   "name": "python",
   "nbconvert_exporter": "python",
   "pygments_lexer": "ipython3",
   "version": "3.7.2"
  }
 },
 "nbformat": 4,
 "nbformat_minor": 2
}
