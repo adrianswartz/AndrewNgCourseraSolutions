{
 "cells": [
  {
   "cell_type": "markdown",
   "metadata": {},
   "source": [
    "Author: Adrian Swartz<br>\n",
    "Date: 3/29/2019\n",
    "\n",
    "\n",
    "# Solutions to Andew Ng's coursera problems\n",
    "## Example 7b: Principal Component Analysis\n",
    "\n",
    "Andrew Ng's course is designed for the solutions to be worked through in Octave (similar to matlab). However, I am going to do these problems in python (within a jupyter notebook) and demonstrate how various approaches can be implemented in python.\n",
    "\n",
    "In this exercise, we are tasked implementing principal component analysis (PCA) to perform dimensionality reduction. First experiment with an example 2D dataset to get intuition on how PCA works, and then use it on a bigger dataset of 5000 face image dataset.\n",
    "\n",
    "This notebook is structured as follows:<br>\n",
    "\n",
    "[Part 1 - Implementing Principal Component Analysis](#pt1)<br>\n",
    "1. [Exploratory Data Analysis](#eda)\n",
    "2. [Implementing PCA manually](#imp)\n",
    "3. [PCA with sklearn](#sklearn)\n",
    "\n",
    "[Part 2 - Image Compression with PCA](#pt2)<br>\n",
    "\n",
    "***\n",
    "\n",
    "For this exercise, we will import several python packages: NumPy (numerical python for matrix manupulations and advanced math), pandas (DataFrames offer a useful platform for importing data and performing exploratory data analysis), matplotlib and seaborn for data visualization."
   ]
  },
  {
   "cell_type": "code",
   "execution_count": 1,
   "metadata": {},
   "outputs": [],
   "source": [
    "# Import standard packages\n",
    "import numpy as np\n",
    "import pandas as pd\n",
    "import matplotlib.pyplot as plt\n",
    "%matplotlib inline\n",
    "\n",
    "import seaborn as sns\n",
    "cp=sns.color_palette()\n",
    "\n",
    "# import a few special packages we'll use for this example\n",
    "from scipy.io import loadmat\n",
    "from sklearn.decomposition import PCA"
   ]
  },
  {
   "cell_type": "markdown",
   "metadata": {},
   "source": [
    "<a id=\"pt1\"></a>\n",
    "# Part 1 - Implementing Principal Component Analysis\n",
    "\n",
    "Prompt:<br>\n",
    "In this exercise, you will use principal component analysis (PCA) to perform dimensionality reduction. You will first experiment with an example 2D dataset to get intuition on how PCA works.\n",
    "\n",
    "First start with a 2D dataset which has one direction of large variation and one of smaller variation.\n",
    "\n",
    "\n",
    "\n",
    "***\n",
    "\n",
    "<a id=\"eda\"></a>\n",
    "# Exploratory Data Analysis\n"
   ]
  },
  {
   "cell_type": "code",
   "execution_count": 2,
   "metadata": {},
   "outputs": [
    {
     "data": {
      "text/html": [
       "<div>\n",
       "<style scoped>\n",
       "    .dataframe tbody tr th:only-of-type {\n",
       "        vertical-align: middle;\n",
       "    }\n",
       "\n",
       "    .dataframe tbody tr th {\n",
       "        vertical-align: top;\n",
       "    }\n",
       "\n",
       "    .dataframe thead th {\n",
       "        text-align: right;\n",
       "    }\n",
       "</style>\n",
       "<table border=\"1\" class=\"dataframe\">\n",
       "  <thead>\n",
       "    <tr style=\"text-align: right;\">\n",
       "      <th></th>\n",
       "      <th>X1</th>\n",
       "      <th>X2</th>\n",
       "    </tr>\n",
       "  </thead>\n",
       "  <tbody>\n",
       "    <tr>\n",
       "      <th>0</th>\n",
       "      <td>3.381563</td>\n",
       "      <td>3.389113</td>\n",
       "    </tr>\n",
       "    <tr>\n",
       "      <th>1</th>\n",
       "      <td>4.527875</td>\n",
       "      <td>5.854178</td>\n",
       "    </tr>\n",
       "    <tr>\n",
       "      <th>2</th>\n",
       "      <td>2.655682</td>\n",
       "      <td>4.411995</td>\n",
       "    </tr>\n",
       "    <tr>\n",
       "      <th>3</th>\n",
       "      <td>2.765235</td>\n",
       "      <td>3.715414</td>\n",
       "    </tr>\n",
       "    <tr>\n",
       "      <th>4</th>\n",
       "      <td>2.846560</td>\n",
       "      <td>4.175506</td>\n",
       "    </tr>\n",
       "  </tbody>\n",
       "</table>\n",
       "</div>"
      ],
      "text/plain": [
       "         X1        X2\n",
       "0  3.381563  3.389113\n",
       "1  4.527875  5.854178\n",
       "2  2.655682  4.411995\n",
       "3  2.765235  3.715414\n",
       "4  2.846560  4.175506"
      ]
     },
     "execution_count": 2,
     "metadata": {},
     "output_type": "execute_result"
    }
   ],
   "source": [
    "raw_data = loadmat('ex7/ex7data1.mat')\n",
    "data = pd.DataFrame(raw_data['X'], columns = ['X1','X2'])\n",
    "X = raw_data['X']\n",
    "data.head()"
   ]
  },
  {
   "cell_type": "code",
   "execution_count": 3,
   "metadata": {},
   "outputs": [
    {
     "name": "stdout",
     "output_type": "stream",
     "text": [
      "<class 'pandas.core.frame.DataFrame'>\n",
      "RangeIndex: 50 entries, 0 to 49\n",
      "Data columns (total 2 columns):\n",
      "X1    50 non-null float64\n",
      "X2    50 non-null float64\n",
      "dtypes: float64(2)\n",
      "memory usage: 880.0 bytes\n"
     ]
    }
   ],
   "source": [
    "data.info()"
   ]
  },
  {
   "cell_type": "code",
   "execution_count": 4,
   "metadata": {},
   "outputs": [
    {
     "data": {
      "text/html": [
       "<div>\n",
       "<style scoped>\n",
       "    .dataframe tbody tr th:only-of-type {\n",
       "        vertical-align: middle;\n",
       "    }\n",
       "\n",
       "    .dataframe tbody tr th {\n",
       "        vertical-align: top;\n",
       "    }\n",
       "\n",
       "    .dataframe thead th {\n",
       "        text-align: right;\n",
       "    }\n",
       "</style>\n",
       "<table border=\"1\" class=\"dataframe\">\n",
       "  <thead>\n",
       "    <tr style=\"text-align: right;\">\n",
       "      <th></th>\n",
       "      <th>count</th>\n",
       "      <th>mean</th>\n",
       "      <th>std</th>\n",
       "      <th>min</th>\n",
       "      <th>25%</th>\n",
       "      <th>50%</th>\n",
       "      <th>75%</th>\n",
       "      <th>max</th>\n",
       "    </tr>\n",
       "  </thead>\n",
       "  <tbody>\n",
       "    <tr>\n",
       "      <th>X1</th>\n",
       "      <td>50.0</td>\n",
       "      <td>3.989265</td>\n",
       "      <td>1.173050</td>\n",
       "      <td>1.180233</td>\n",
       "      <td>3.051136</td>\n",
       "      <td>3.963505</td>\n",
       "      <td>4.891286</td>\n",
       "      <td>5.911298</td>\n",
       "    </tr>\n",
       "    <tr>\n",
       "      <th>X2</th>\n",
       "      <td>50.0</td>\n",
       "      <td>5.002806</td>\n",
       "      <td>1.023408</td>\n",
       "      <td>2.878694</td>\n",
       "      <td>4.418211</td>\n",
       "      <td>5.012886</td>\n",
       "      <td>5.810504</td>\n",
       "      <td>7.363197</td>\n",
       "    </tr>\n",
       "  </tbody>\n",
       "</table>\n",
       "</div>"
      ],
      "text/plain": [
       "    count      mean       std       min       25%       50%       75%  \\\n",
       "X1   50.0  3.989265  1.173050  1.180233  3.051136  3.963505  4.891286   \n",
       "X2   50.0  5.002806  1.023408  2.878694  4.418211  5.012886  5.810504   \n",
       "\n",
       "         max  \n",
       "X1  5.911298  \n",
       "X2  7.363197  "
      ]
     },
     "execution_count": 4,
     "metadata": {},
     "output_type": "execute_result"
    }
   ],
   "source": [
    "data.describe().T"
   ]
  },
  {
   "cell_type": "code",
   "execution_count": 5,
   "metadata": {},
   "outputs": [
    {
     "data": {
      "text/html": [
       "<div>\n",
       "<style scoped>\n",
       "    .dataframe tbody tr th:only-of-type {\n",
       "        vertical-align: middle;\n",
       "    }\n",
       "\n",
       "    .dataframe tbody tr th {\n",
       "        vertical-align: top;\n",
       "    }\n",
       "\n",
       "    .dataframe thead th {\n",
       "        text-align: right;\n",
       "    }\n",
       "</style>\n",
       "<table border=\"1\" class=\"dataframe\">\n",
       "  <thead>\n",
       "    <tr style=\"text-align: right;\">\n",
       "      <th></th>\n",
       "      <th>X1</th>\n",
       "      <th>X2</th>\n",
       "    </tr>\n",
       "  </thead>\n",
       "  <tbody>\n",
       "    <tr>\n",
       "      <th>X1</th>\n",
       "      <td>1.00000</td>\n",
       "      <td>0.73553</td>\n",
       "    </tr>\n",
       "    <tr>\n",
       "      <th>X2</th>\n",
       "      <td>0.73553</td>\n",
       "      <td>1.00000</td>\n",
       "    </tr>\n",
       "  </tbody>\n",
       "</table>\n",
       "</div>"
      ],
      "text/plain": [
       "         X1       X2\n",
       "X1  1.00000  0.73553\n",
       "X2  0.73553  1.00000"
      ]
     },
     "execution_count": 5,
     "metadata": {},
     "output_type": "execute_result"
    }
   ],
   "source": [
    "data.corr()"
   ]
  },
  {
   "cell_type": "code",
   "execution_count": 6,
   "metadata": {},
   "outputs": [
    {
     "data": {
      "text/plain": [
       "<seaborn.axisgrid.PairGrid at 0x1a1a22f0f0>"
      ]
     },
     "execution_count": 6,
     "metadata": {},
     "output_type": "execute_result"
    },
    {
     "data": {
      "image/png": "[encoded data removed]",
      "text/plain": [
       "<Figure size 518.4x432 with 6 Axes>"
      ]
     },
     "metadata": {
      "needs_background": "light"
     },
     "output_type": "display_data"
    }
   ],
   "source": [
    "sns.pairplot(data, height=3, aspect=1.2)"
   ]
  },
  {
   "cell_type": "markdown",
   "metadata": {},
   "source": [
    "<a id=\"imp\"></a>\n",
    "# Implementing PCA\n",
    "\n",
    "PCA consists of two computational steps: First, you compute the covariance matrix of the data. Then, you use SVD to compute the eigenvectors $U1, U2, . . . , Un$. These will correspond to the principal components of variation in the data. Before using PCA, it is important to first normalize the data by __subtracting the mean value of each feature__ from the dataset, and scaling each dimension so that they are in the same range."
   ]
  },
  {
   "cell_type": "code",
   "execution_count": 7,
   "metadata": {},
   "outputs": [
    {
     "data": {
      "text/plain": [
       "(4.496035565920988, array([3.98926528, 5.00280585]))"
      ]
     },
     "execution_count": 7,
     "metadata": {},
     "output_type": "execute_result"
    }
   ],
   "source": [
    "X.mean(), np.mean(X, axis=0)"
   ]
  },
  {
   "cell_type": "code",
   "execution_count": 8,
   "metadata": {},
   "outputs": [],
   "source": [
    "def pca(X):\n",
    "    #normalize according to the mean and divide by the variance\n",
    "    Xn = (X - np.mean(X, axis=0))/np.std(X,axis=0)\n",
    "    \n",
    "    m, n = Xn.shape\n",
    "    \n",
    "    #covariance matrix\n",
    "    Xn = np.matrix(Xn)\n",
    "    C = (Xn.T * Xn) / m\n",
    "    \n",
    "    U, S, V = np.linalg.svd(C)\n",
    "    \n",
    "    return U, S, V"
   ]
  },
  {
   "cell_type": "code",
   "execution_count": 9,
   "metadata": {},
   "outputs": [
    {
     "data": {
      "text/plain": [
       "(matrix([[-0.70710678, -0.70710678],\n",
       "         [-0.70710678,  0.70710678]]),\n",
       " array([1.73553038, 0.26446962]),\n",
       " matrix([[-0.70710678, -0.70710678],\n",
       "         [-0.70710678,  0.70710678]]))"
      ]
     },
     "execution_count": 9,
     "metadata": {},
     "output_type": "execute_result"
    }
   ],
   "source": [
    "U, S, V = pca(X)\n",
    "U, S, V"
   ]
  },
  {
   "cell_type": "code",
   "execution_count": 10,
   "metadata": {},
   "outputs": [
    {
     "data": {
      "text/plain": [
       "(50, 1)"
      ]
     },
     "execution_count": 10,
     "metadata": {},
     "output_type": "execute_result"
    }
   ],
   "source": [
    "def project_data(X, U, k):\n",
    "    Ured=U[:,:k]\n",
    "    \n",
    "    return np.dot(X, Ured) #np.multiply(Ured.T,X)\n",
    "\n",
    "project_data(X, U, 1).shape"
   ]
  },
  {
   "cell_type": "code",
   "execution_count": 11,
   "metadata": {},
   "outputs": [
    {
     "data": {
      "text/plain": [
       "matrix([[-4.78759045],\n",
       "        [-7.34122042],\n",
       "        [-4.99760204],\n",
       "        [-4.58251038],\n",
       "        [-4.96535088],\n",
       "        [-7.33909864],\n",
       "        [-5.02657745],\n",
       "        [-8.90393595],\n",
       "        [-6.38329374],\n",
       "        [-7.20197778]])"
      ]
     },
     "execution_count": 11,
     "metadata": {},
     "output_type": "execute_result"
    }
   ],
   "source": [
    "Z = project_data(X, U, 1)\n",
    "Z[:10]"
   ]
  },
  {
   "cell_type": "markdown",
   "metadata": {},
   "source": [
    "We can also try to recover the data"
   ]
  },
  {
   "cell_type": "code",
   "execution_count": 12,
   "metadata": {},
   "outputs": [],
   "source": [
    "def recover_data(Z, U, k):\n",
    "    U_reduced = U[:,:k]\n",
    "    return np.dot(Z, U_reduced.T)\n",
    "\n",
    "X_recovered = recover_data(Z, U, 1)\n",
    "X_recovered=np.array(X_recovered)"
   ]
  },
  {
   "cell_type": "code",
   "execution_count": 13,
   "metadata": {},
   "outputs": [],
   "source": [
    "Xn = (X - np.mean(X, axis=0))/np.std(X,axis=0)\n",
    "Xr = (X_recovered-np.mean(X, axis=0))/np.std(X, axis=0)"
   ]
  },
  {
   "cell_type": "code",
   "execution_count": 14,
   "metadata": {},
   "outputs": [
    {
     "data": {
      "text/plain": [
       "<matplotlib.legend.Legend at 0x1a1a81a978>"
      ]
     },
     "execution_count": 14,
     "metadata": {},
     "output_type": "execute_result"
    },
    {
     "data": {
      "image/png": "[encoded data removed]",
      "text/plain": [
       "<Figure size 720x432 with 1 Axes>"
      ]
     },
     "metadata": {
      "needs_background": "light"
     },
     "output_type": "display_data"
    }
   ],
   "source": [
    "fig, ax = plt.subplots(figsize=(10,6))\n",
    "plt.plot(X[:,0],X[:,1],'o', label='Data')\n",
    "plt.plot(Xn[:,0],Xn[:,1],'o',color='red', label='Normalized Data')\n",
    "plt.plot(Xr[:,0],Xr[:,1],'o',color=cp[9], label=\"PCA'd Normalized data\")\n",
    "plt.scatter(X_recovered[:,0],X_recovered[:,1], color='black', label=\"PCA'd data\")\n",
    "ax.set_xlabel('X1')\n",
    "ax.set_ylabel('X2')\n",
    "ax.legend()"
   ]
  },
  {
   "cell_type": "markdown",
   "metadata": {},
   "source": [
    "The offset is a feature of plotting a reduced data set which has a particular principal axis on the X1, X2 axis. It doesn't really make sense to plot on the same X1,X2 plot."
   ]
  },
  {
   "cell_type": "markdown",
   "metadata": {},
   "source": [
    "<a id=\"sklearn\"></a>\n",
    "# PCA with sklearn\n",
    "\n",
    "You might be shocked to discover that sklearn has a module called [sklearn.deconstruction](https://scikit-learn.org/stable/modules/classes.html#module-sklearn.decomposition) that includes PCA. \n",
    "\n",
    "PCA has a number of methods:\n",
    "\n",
    "\n",
    "        fit(X[, y])    # Fit the model with X.\n",
    "        fit_transform(X[, y])\t# Fit the model with X and apply the dimensionality reduction on X.\n",
    "        get_covariance()\t# Compute data covariance with the generative model.\n",
    "        get_params([deep])\t# Get parameters for this estimator.\n",
    "        get_precision()\t# Compute data precision matrix with the generative model.\n",
    "        inverse_transform(X)\t# Transform data back to its original space.\n",
    "        score(X[, y])\t# Return the average log-likelihood of all samples.\n",
    "        score_samples(X)\t# Return the log-likelihood of each sample.\n",
    "        set_params(**params)\t# Set the parameters of this estimator.\n",
    "        transform(X)\t# Apply dimensionality reduction to X."
   ]
  },
  {
   "cell_type": "code",
   "execution_count": 15,
   "metadata": {},
   "outputs": [],
   "source": [
    "PCA = PCA(n_components=1).fit(X)"
   ]
  },
  {
   "cell_type": "code",
   "execution_count": 16,
   "metadata": {},
   "outputs": [],
   "source": [
    "X_r = PCA.transform(X)"
   ]
  },
  {
   "cell_type": "code",
   "execution_count": 17,
   "metadata": {},
   "outputs": [
    {
     "data": {
      "text/plain": [
       "(50, 1)"
      ]
     },
     "execution_count": 17,
     "metadata": {},
     "output_type": "execute_result"
    }
   ],
   "source": [
    "X_r.shape"
   ]
  },
  {
   "cell_type": "code",
   "execution_count": 18,
   "metadata": {},
   "outputs": [
    {
     "data": {
      "text/plain": [
       "<matplotlib.legend.Legend at 0x1a1add2358>"
      ]
     },
     "execution_count": 18,
     "metadata": {},
     "output_type": "execute_result"
    },
    {
     "data": {
      "image/png": "[encoded data removed]",
      "text/plain": [
       "<Figure size 720x432 with 1 Axes>"
      ]
     },
     "metadata": {
      "needs_background": "light"
     },
     "output_type": "display_data"
    }
   ],
   "source": [
    "fig, ax = plt.subplots(figsize=(10,6))\n",
    "plt.plot(X[:,0],X[:,1],'o', label='Data')\n",
    "plt.plot(X_r[:,0],X_r,'o',color=cp[3], label='sklearn PCA')\n",
    "ax.set_xlabel('X1')\n",
    "ax.set_ylabel('X2')\n",
    "ax.legend()"
   ]
  },
  {
   "cell_type": "markdown",
   "metadata": {},
   "source": [
    "Again, it's weird to plot it this way on a 2D graph in units of X1 and X2 when PCA finds the principal components. Id doesn't make sense to plot it on X1, X2 except to visualize the straight line. But really we should think of the data as belonging to a new principal axis with one dimension.\n",
    "\n",
    "The pca object will also provide a number of useful attributes including `components_` which are the principal axes in feature space, representing the directions of maximum variance in the data. The components are sorted by `explained_variance_`."
   ]
  },
  {
   "cell_type": "code",
   "execution_count": 20,
   "metadata": {},
   "outputs": [
    {
     "data": {
      "text/plain": [
       "array([[-0.76908153, -0.63915068]])"
      ]
     },
     "execution_count": 20,
     "metadata": {},
     "output_type": "execute_result"
    }
   ],
   "source": [
    "PCA.components_"
   ]
  },
  {
   "cell_type": "code",
   "execution_count": 21,
   "metadata": {},
   "outputs": [
    {
     "data": {
      "text/plain": [
       "array([0.87062385])"
      ]
     },
     "execution_count": 21,
     "metadata": {},
     "output_type": "execute_result"
    }
   ],
   "source": [
    "PCA.explained_variance_ratio_"
   ]
  },
  {
   "cell_type": "markdown",
   "metadata": {},
   "source": [
    "`pca.explained_variance_ratio_`: array, shape (n_components,)\n",
    "\n",
    "Percentage of variance explained by each of the selected components.\n",
    "\n",
    "If n_components is not set then all components are stored and the sum of the ratios is equal to 1.0."
   ]
  },
  {
   "cell_type": "markdown",
   "metadata": {},
   "source": [
    "<a id=\"pt2\"></a>\n",
    "# Part 2 - Image Compression with PCA\n",
    "\n",
    "\n",
    "In this part of the exercise, you will run PCA on face images to see how it can be used in practice for dimension reduction.\n",
    "\n",
    "The dataset `ex7faces.mat` contains face images, each 32 $\\times$ 32 in grayscale. Each row of $X$ corresponds to one face image (a row vector of length 1024)."
   ]
  },
  {
   "cell_type": "code",
   "execution_count": 22,
   "metadata": {},
   "outputs": [
    {
     "data": {
      "text/plain": [
       "(5000, 1024)"
      ]
     },
     "execution_count": 22,
     "metadata": {},
     "output_type": "execute_result"
    }
   ],
   "source": [
    "faces = loadmat('ex7/ex7faces.mat')\n",
    "X = faces['X']\n",
    "X.shape"
   ]
  },
  {
   "cell_type": "code",
   "execution_count": 23,
   "metadata": {},
   "outputs": [
    {
     "data": {
      "text/plain": [
       "<matplotlib.image.AxesImage at 0x1a1b48b748>"
      ]
     },
     "execution_count": 23,
     "metadata": {},
     "output_type": "execute_result"
    },
    {
     "data": {
      "image/png": "[encoded data removed]",
      "text/plain": [
       "<Figure size 432x288 with 1 Axes>"
      ]
     },
     "metadata": {
      "needs_background": "light"
     },
     "output_type": "display_data"
    }
   ],
   "source": [
    "plt.imshow(X)"
   ]
  },
  {
   "cell_type": "markdown",
   "metadata": {},
   "source": [
    "An image should be 32x32 pixels. So let's see if we can reshape X and plot one face at random"
   ]
  },
  {
   "cell_type": "code",
   "execution_count": 24,
   "metadata": {},
   "outputs": [
    {
     "data": {
      "text/plain": [
       "<matplotlib.image.AxesImage at 0x1a1b4d9be0>"
      ]
     },
     "execution_count": 24,
     "metadata": {},
     "output_type": "execute_result"
    },
    {
     "data": {
      "image/png": "[encoded data removed]",
      "text/plain": [
       "<Figure size 432x288 with 1 Axes>"
      ]
     },
     "metadata": {
      "needs_background": "light"
     },
     "output_type": "display_data"
    }
   ],
   "source": [
    "face = np.reshape(X[np.random.randint(0,99),:], (32, 32)).T\n",
    "plt.imshow(face)"
   ]
  },
  {
   "cell_type": "code",
   "execution_count": 25,
   "metadata": {},
   "outputs": [
    {
     "data": {
      "text/plain": [
       "<matplotlib.image.AxesImage at 0x1a2428f710>"
      ]
     },
     "execution_count": 25,
     "metadata": {},
     "output_type": "execute_result"
    },
    {
     "data": {
      "image/png": "[encoded data removed]",
      "text/plain": [
       "<Figure size 1008x360 with 1 Axes>"
      ]
     },
     "metadata": {
      "needs_background": "light"
     },
     "output_type": "display_data"
    }
   ],
   "source": [
    "stacked_faces = np.reshape(X[0,:], (32, 32)).T\n",
    "for i in range(1,10):\n",
    "    stacked_faces = np.hstack((stacked_faces,np.reshape(X[i,:], (32, 32)).T))\n",
    "fix, ax = plt.subplots(figsize=(14,5))\n",
    "plt.imshow(stacked_faces)"
   ]
  },
  {
   "cell_type": "code",
   "execution_count": 26,
   "metadata": {},
   "outputs": [
    {
     "data": {
      "text/plain": [
       "(32, 320)"
      ]
     },
     "execution_count": 26,
     "metadata": {},
     "output_type": "execute_result"
    }
   ],
   "source": [
    "stacked_faces.shape"
   ]
  },
  {
   "cell_type": "markdown",
   "metadata": {},
   "source": [
    "__Let's begin PCA__"
   ]
  },
  {
   "cell_type": "code",
   "execution_count": 27,
   "metadata": {},
   "outputs": [
    {
     "data": {
      "text/plain": [
       "<matplotlib.image.AxesImage at 0x1a244bf5f8>"
      ]
     },
     "execution_count": 27,
     "metadata": {},
     "output_type": "execute_result"
    },
    {
     "data": {
      "image/png": "[encoded data removed]",
      "text/plain": [
       "<Figure size 432x288 with 2 Axes>"
      ]
     },
     "metadata": {
      "needs_background": "light"
     },
     "output_type": "display_data"
    }
   ],
   "source": [
    "U, S, V = pca(X)\n",
    "PR = 100    #start with 100 principle components\n",
    "Z = project_data(X, U, PR) \n",
    "\n",
    "X_recovered = recover_data(Z, U, PR)\n",
    "face_reduced = np.reshape(X_recovered[3,:], (32, 32))\n",
    "\n",
    "face = np.reshape(X[3,:], (32, 32)).T\n",
    "\n",
    "fig, (ax1,ax2) = plt.subplots(1,2)\n",
    "ax1.imshow(face, cmap='Greys')\n",
    "ax2.imshow(face_reduced.T, cmap='Greys')"
   ]
  },
  {
   "cell_type": "code",
   "execution_count": 28,
   "metadata": {},
   "outputs": [
    {
     "data": {
      "text/plain": [
       "<matplotlib.image.AxesImage at 0x1a1ac9a9b0>"
      ]
     },
     "execution_count": 28,
     "metadata": {},
     "output_type": "execute_result"
    },
    {
     "data": {
      "image/png": "[encoded data removed]",
      "text/plain": [
       "<Figure size 432x288 with 2 Axes>"
      ]
     },
     "metadata": {
      "needs_background": "light"
     },
     "output_type": "display_data"
    }
   ],
   "source": [
    "U, S, V = pca(X)\n",
    "PR = 10       # 10 principle components\n",
    "Z = project_data(X, U, PR) \n",
    "\n",
    "X_recovered = recover_data(Z, U, PR)\n",
    "face_reduced = np.reshape(X_recovered[3,:], (32, 32))\n",
    "\n",
    "face = np.reshape(X[3,:], (32, 32)).T\n",
    "\n",
    "fig, (ax1,ax2) = plt.subplots(1,2)\n",
    "ax1.imshow(face, cmap='Greys')\n",
    "ax2.imshow(face_reduced.T, cmap='Greys')"
   ]
  },
  {
   "cell_type": "markdown",
   "metadata": {},
   "source": [
    "Done! On to recommender systems and anomaly detection."
   ]
  },
  {
   "cell_type": "code",
   "execution_count": null,
   "metadata": {},
   "outputs": [],
   "source": []
  }
 ],
 "metadata": {
  "kernelspec": {
   "display_name": "Python 3",
   "language": "python",
   "name": "python3"
  },
  "language_info": {
   "codemirror_mode": {
    "name": "ipython",
    "version": 3
   },
   "file_extension": ".py",
   "mimetype": "text/x-python",
   "name": "python",
   "nbconvert_exporter": "python",
   "pygments_lexer": "ipython3",
   "version": "3.7.2"
  }
 },
 "nbformat": 4,
 "nbformat_minor": 2
}
