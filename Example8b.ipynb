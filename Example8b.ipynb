{
 "cells": [
  {
   "cell_type": "markdown",
   "metadata": {},
   "source": [
    "Author: Adrian Swartz<br>\n",
    "Date: 3/29/2019\n",
    "\n",
    "\n",
    "# Solutions to Andew Ng's coursera problems\n",
    "## Example 8b: Collaborative Filtering and Recommender Systems \n",
    "\n",
    "This is the last post! \n",
    "\n",
    "Andrew Ng's course is designed for the solutions to be worked through in Octave (similar to matlab). However, I am going to do these problems in python (within a jupyter notebook) and demonstrate how various approaches can be implemented in python.\n",
    "\n",
    "In this exercise, we are tasked with implementing collaborative filtering on a movie review data set.\n",
    "\n",
    "This notebook is structured as follows:<br>\n",
    "\n",
    "[Collaborative Filtering](#pt1)<br>\n",
    "1. [Exploratory Data Analysis](#eda)\n",
    "2. [Implementing Collaborative Filtering](#cf)\n",
    "\n",
    "***\n",
    "\n",
    "For this exercise, we will import several python packages: NumPy (numerical python for matrix manupulations and advanced math), pandas (DataFrames offer a useful platform for importing data and performing exploratory data analysis), matplotlib and seaborn for data visualization."
   ]
  },
  {
   "cell_type": "code",
   "execution_count": 1,
   "metadata": {},
   "outputs": [],
   "source": [
    "# Import standard packages\n",
    "import numpy as np\n",
    "import pandas as pd\n",
    "import matplotlib.pyplot as plt\n",
    "%matplotlib inline\n",
    "\n",
    "import seaborn as sns\n",
    "cp=sns.color_palette()\n",
    "\n",
    "# import a few special packages we'll use for this example\n",
    "from scipy.io import loadmat\n",
    "from scipy.optimize import minimize\n"
   ]
  },
  {
   "cell_type": "markdown",
   "metadata": {},
   "source": [
    "<a id=\"pt1\"></a>\n",
    "# Collaborative Filtering\n",
    "\n",
    "Prompt:<br>\n",
    "Implement the collaborative filtering learning algorithm and apply it to a dataset of movie ratings.<br>\n",
    "This dataset consists of ratings on a scale of 1 to 5. The dataset has $n_u$ = 943 users, and $n_m$ = 1682 movies.\n",
    "\n",
    "The matrix $Y$ (a num movies $\\times$ num users matrix) stores the ratings $y^{(i,j)}$ (from 1 to 5). The matrix $R$ is an binary-valued indicator matrix, where $R^{(i, j)}$ = 1 if user $j$ gave a rating to movie $i$, and $R^{(i, j)}$ = 0 otherwise. The objective of collaborative filtering is to predict movie ratings for the movies that users have not yet rated, that is, the entries with $R^{(i, j)}$ = 0. This will allow us to recommend the movies with the highest predicted ratings to the user.\n",
    "\n",
    "The $i$-th row of $X$ corresponds to the feature vector $x^{(i)}$ for the $i$-th movie, and the $j$-th row of Theta corresponds to one parameter vector $\\theta^{(j)}$, for the $j$-th user. Both $x^{(i)}$ and $\\theta^{(j)}$ are $n$-dimensional vectors. For the purposes of this exercise, you will use $n$ = 100. Correspondingly, $X$ is a $n_m$ $\\times$ 100 matrix and Theta is a $n_u$ $\\times$ 100 matrix.\n",
    "\n",
    "***\n",
    "\n",
    "<a id=\"eda\"></a>\n",
    "# Exploratory Data Analysis\n",
    "\n"
   ]
  },
  {
   "cell_type": "code",
   "execution_count": 2,
   "metadata": {},
   "outputs": [
    {
     "data": {
      "text/plain": [
       "{'__header__': b'MATLAB 5.0 MAT-file, Platform: GLNXA64, Created on: Thu Dec  1 17:19:26 2011',\n",
       " '__version__': '1.0',\n",
       " '__globals__': [],\n",
       " 'Y': array([[5, 4, 0, ..., 5, 0, 0],\n",
       "        [3, 0, 0, ..., 0, 0, 5],\n",
       "        [4, 0, 0, ..., 0, 0, 0],\n",
       "        ...,\n",
       "        [0, 0, 0, ..., 0, 0, 0],\n",
       "        [0, 0, 0, ..., 0, 0, 0],\n",
       "        [0, 0, 0, ..., 0, 0, 0]], dtype=uint8),\n",
       " 'R': array([[1, 1, 0, ..., 1, 0, 0],\n",
       "        [1, 0, 0, ..., 0, 0, 1],\n",
       "        [1, 0, 0, ..., 0, 0, 0],\n",
       "        ...,\n",
       "        [0, 0, 0, ..., 0, 0, 0],\n",
       "        [0, 0, 0, ..., 0, 0, 0],\n",
       "        [0, 0, 0, ..., 0, 0, 0]], dtype=uint8)}"
      ]
     },
     "execution_count": 2,
     "metadata": {},
     "output_type": "execute_result"
    }
   ],
   "source": [
    "raw_data = loadmat('ex8/ex8_movies.mat')\n",
    "raw_data"
   ]
  },
  {
   "cell_type": "code",
   "execution_count": 3,
   "metadata": {},
   "outputs": [
    {
     "data": {
      "text/plain": [
       "dict_keys(['__header__', '__version__', '__globals__', 'Y', 'R'])"
      ]
     },
     "execution_count": 3,
     "metadata": {},
     "output_type": "execute_result"
    }
   ],
   "source": [
    "raw_data.keys()"
   ]
  },
  {
   "cell_type": "markdown",
   "metadata": {},
   "source": [
    "$Y$ is a (number of movies $\\times$ number of users) matrix containing ratings from 1 to 5. R is an \"indicator\" array containing binary values indicating if a user has rated a movie or not. Both should have the same shape."
   ]
  },
  {
   "cell_type": "code",
   "execution_count": 4,
   "metadata": {},
   "outputs": [
    {
     "data": {
      "text/plain": [
       "((1682, 943), (1682, 943))"
      ]
     },
     "execution_count": 4,
     "metadata": {},
     "output_type": "execute_result"
    }
   ],
   "source": [
    "R = raw_data['R']\n",
    "Y = raw_data['Y']\n",
    "R.shape, Y.shape"
   ]
  },
  {
   "cell_type": "code",
   "execution_count": 5,
   "metadata": {},
   "outputs": [],
   "source": [
    "#1682 movies, 943 users"
   ]
  },
  {
   "cell_type": "code",
   "execution_count": 6,
   "metadata": {},
   "outputs": [
    {
     "data": {
      "text/plain": [
       "(100000, 1486126)"
      ]
     },
     "execution_count": 6,
     "metadata": {},
     "output_type": "execute_result"
    }
   ],
   "source": [
    "np.count_nonzero(R == 1), np.count_nonzero(R == 0)"
   ]
  },
  {
   "cell_type": "code",
   "execution_count": 7,
   "metadata": {},
   "outputs": [],
   "source": [
    "#100k rated, and 1.5M not rated"
   ]
  },
  {
   "cell_type": "markdown",
   "metadata": {},
   "source": [
    "We can look at the average rating for a movie by averaging over a row in Y for indexes where a rating is present.\n",
    "\n"
   ]
  },
  {
   "cell_type": "code",
   "execution_count": 8,
   "metadata": {},
   "outputs": [
    {
     "data": {
      "text/plain": [
       "0.5838287752675386"
      ]
     },
     "execution_count": 8,
     "metadata": {},
     "output_type": "execute_result"
    }
   ],
   "source": [
    "Y[:,0].mean() # average rating for user 0"
   ]
  },
  {
   "cell_type": "code",
   "execution_count": 9,
   "metadata": {},
   "outputs": [
    {
     "data": {
      "text/plain": [
       "(0.1367419738406659, 0.11533888228299644, 0.34066587395957193)"
      ]
     },
     "execution_count": 9,
     "metadata": {},
     "output_type": "execute_result"
    }
   ],
   "source": [
    "Y[:,1].mean(), Y[:,100].mean(), Y[:,-1].mean()"
   ]
  },
  {
   "cell_type": "code",
   "execution_count": 10,
   "metadata": {},
   "outputs": [],
   "source": [
    "#Should be low because the Y matrix includes movies which were not rated."
   ]
  },
  {
   "cell_type": "code",
   "execution_count": 11,
   "metadata": {},
   "outputs": [
    {
     "data": {
      "text/plain": [
       "3.7096774193548385"
      ]
     },
     "execution_count": 11,
     "metadata": {},
     "output_type": "execute_result"
    }
   ],
   "source": [
    "Y[np.where(R[:,1]==1),1].mean() #average rating for user 1"
   ]
  },
  {
   "cell_type": "code",
   "execution_count": 12,
   "metadata": {},
   "outputs": [
    {
     "data": {
      "text/plain": [
       "(3.5881911071848003, 0.44523349515895827)"
      ]
     },
     "execution_count": 12,
     "metadata": {},
     "output_type": "execute_result"
    },
    {
     "data": {
      "image/png": "[encoded data removed]",
      "text/plain": [
       "<Figure size 432x288 with 1 Axes>"
      ]
     },
     "metadata": {
      "needs_background": "light"
     },
     "output_type": "display_data"
    }
   ],
   "source": [
    "# For movies which were rated, calculate the average rating that each user gave and plot the distribution\n",
    "users_mean_rated = pd.Series([Y[np.where(R[:,i]==1),i].mean() \\\n",
    "                              for i in range(Y.shape[1])], name=\"Average user rating\")\n",
    "sns.distplot(users_mean_rated, bins=50)\n",
    "users_mean_rated.mean(), users_mean_rated.std()"
   ]
  },
  {
   "cell_type": "code",
   "execution_count": 13,
   "metadata": {},
   "outputs": [],
   "source": [
    "#can also explore the average ratings for each movie by switching from indexing columns to rows"
   ]
  },
  {
   "cell_type": "code",
   "execution_count": 14,
   "metadata": {},
   "outputs": [
    {
     "data": {
      "text/plain": [
       "3.2061068702290076"
      ]
     },
     "execution_count": 14,
     "metadata": {},
     "output_type": "execute_result"
    }
   ],
   "source": [
    "#For only those instances that were rated, average rating for movie 1\n",
    "movie = 1\n",
    "Y[movie, np.where(R[movie,:]==1)].mean()"
   ]
  },
  {
   "cell_type": "code",
   "execution_count": 15,
   "metadata": {},
   "outputs": [
    {
     "data": {
      "text/plain": [
       "(3.3050661356416806, 0.631248545886858)"
      ]
     },
     "execution_count": 15,
     "metadata": {},
     "output_type": "execute_result"
    },
    {
     "data": {
      "image/png": "[encoded data removed]",
      "text/plain": [
       "<Figure size 432x288 with 1 Axes>"
      ]
     },
     "metadata": {
      "needs_background": "light"
     },
     "output_type": "display_data"
    }
   ],
   "source": [
    "# For movies which were rated, calculate the average rating that each user gave and plot the distribution\n",
    "movies_mean_rated = pd.Series([Y[i,np.where(R[i,:]==1)].mean() \\\n",
    "                              for i in range(Y.shape[1])], name=\"Average movie rating\")\n",
    "sns.distplot(users_mean_rated, bins=50)\n",
    "movies_mean_rated.mean(), movies_mean_rated.std()"
   ]
  },
  {
   "cell_type": "code",
   "execution_count": 16,
   "metadata": {},
   "outputs": [
    {
     "data": {
      "text/plain": [
       "(583, 49)"
      ]
     },
     "execution_count": 16,
     "metadata": {},
     "output_type": "execute_result"
    }
   ],
   "source": [
    "# which movie was rated by the most people?\n",
    "\n",
    "num_users_rated = pd.Series([Y[i,np.where(R[i,:]==1)].shape[1] \\\n",
    "                              for i in range(Y.shape[1])], name=\"Number user ratings\")\n",
    "\n",
    "np.max(num_users_rated), np.argmax(np.array(num_users_rated))\n",
    "#The 49th movie had 583 people give it a rating"
   ]
  },
  {
   "cell_type": "code",
   "execution_count": 17,
   "metadata": {},
   "outputs": [
    {
     "data": {
      "text/plain": [
       "<matplotlib.axes._subplots.AxesSubplot at 0x1a1d23f2b0>"
      ]
     },
     "execution_count": 17,
     "metadata": {},
     "output_type": "execute_result"
    },
    {
     "data": {
      "image/png": "[encoded data removed]",
      "text/plain": [
       "<Figure size 432x288 with 1 Axes>"
      ]
     },
     "metadata": {
      "needs_background": "light"
     },
     "output_type": "display_data"
    }
   ],
   "source": [
    "sns.distplot(num_users_rated, bins=50)"
   ]
  },
  {
   "cell_type": "markdown",
   "metadata": {},
   "source": [
    "Interesting movie rating behavior by people. Either people tend not to rate movies, or they don't watch that many. But overall the population does so in a way characteristic of a Geometric or Exponential distribution.\n",
    "\n",
    "We can also try to \"visualize\" the data by rendering the matrix as if it were an image. We can't glean too much from this but it does give us an idea of a relative density of ratings across users and movies."
   ]
  },
  {
   "cell_type": "code",
   "execution_count": 18,
   "metadata": {},
   "outputs": [
    {
     "data": {
      "image/png": "[encoded data removed]",
      "text/plain": [
       "<Figure size 576x576 with 1 Axes>"
      ]
     },
     "metadata": {
      "needs_background": "light"
     },
     "output_type": "display_data"
    }
   ],
   "source": [
    "fig, ax = plt.subplots(figsize=(8,8))\n",
    "ax.imshow(Y[:,:], cmap='viridis')\n",
    "ax.set_xlabel('Users')\n",
    "ax.set_ylabel('Movies')\n",
    "fig.tight_layout()"
   ]
  },
  {
   "cell_type": "code",
   "execution_count": 19,
   "metadata": {},
   "outputs": [
    {
     "data": {
      "image/png": "[encoded data removed]",
      "text/plain": [
       "<Figure size 360x360 with 2 Axes>"
      ]
     },
     "metadata": {
      "needs_background": "light"
     },
     "output_type": "display_data"
    }
   ],
   "source": [
    "#Let's look at a subset of the first 10x10 part of the reviews\n",
    "fig, ax = plt.subplots(figsize=(5,5))\n",
    "plt.imshow(Y[:10,:10], cmap='viridis')\n",
    "ax.set_xlabel('Users')\n",
    "ax.set_ylabel('Movies')\n",
    "plt.colorbar()\n",
    "fig.tight_layout()\n",
    "#color scale reflects "
   ]
  },
  {
   "cell_type": "code",
   "execution_count": 20,
   "metadata": {},
   "outputs": [
    {
     "data": {
      "text/plain": [
       "<matplotlib.colorbar.Colorbar at 0x1a1d61a550>"
      ]
     },
     "execution_count": 20,
     "metadata": {},
     "output_type": "execute_result"
    },
    {
     "data": {
      "image/png": "[encoded data removed]",
      "text/plain": [
       "<Figure size 720x720 with 2 Axes>"
      ]
     },
     "metadata": {
      "needs_background": "light"
     },
     "output_type": "display_data"
    }
   ],
   "source": [
    "fig, ax = plt.subplots(figsize=(10,10))\n",
    "plt.imshow(Y[:100,:], cmap='viridis')\n",
    "ax.set_xlabel('Users')\n",
    "ax.set_ylabel('Movies')\n",
    "plt.colorbar(orientation='horizontal')"
   ]
  },
  {
   "cell_type": "markdown",
   "metadata": {},
   "source": [
    "It does look like movie 49 has a large number of entries.\n",
    "<a id=\"cf\"></a>\n",
    "# Implementing Collaborative Filtering\n",
    "Next we're going to implement a cost function for collaborative filtering. Intuitively, the \"cost\" is the degree to which a set of movie rating predictions deviate from the true predictions. The cost based on two sets of parameter matrices $X$ and $\\Theta$. These are \"unrolled\" into the \"params\" input so that we can use scipy's optimization functions. \n",
    "\n",
    "Just like with the early examples, we need to keep careful track of the matrix shapes."
   ]
  },
  {
   "cell_type": "code",
   "execution_count": 21,
   "metadata": {},
   "outputs": [],
   "source": [
    "def cost(params, Y, R, num_features):\n",
    "    #params goes first because that's what we're going to optimize using scipy\n",
    "    \n",
    "    Y = np.matrix(Y)  # (1682, 943)\n",
    "    R = np.matrix(R)  # (1682, 943)\n",
    "    num_movies = Y.shape[0] #1682\n",
    "    num_users = Y.shape[1] #943\n",
    "    \n",
    "    # reshape the parameter array into parameter matrices\n",
    "    X = np.matrix(np.reshape(params[:num_movies * num_features], (num_movies, num_features)))  # (1682, 10)\n",
    "    Theta = np.matrix(np.reshape(params[num_movies * num_features:], (num_users, num_features)))  # (943, 10)\n",
    "    #We're grouping the movies into having 10 categories - Andrew Ng's problem set calls for 100\n",
    "    \n",
    "    \n",
    "    # initialization\n",
    "    J = 0\n",
    "    \n",
    "    # compute the cost\n",
    "    error = np.multiply((X * Theta.T) - Y, R)  # (1682, 943)\n",
    "    squared_error = np.power(error, 2)  # (1682, 943)\n",
    "    J = (1. / 2) * np.sum(squared_error)\n",
    "    print('Shapes :: X: {};'.format(X.shape), 'theta: {};'.format(Theta.shape),\\\n",
    "          'X*theta.T: {};'.format((X * Theta.T).shape),'error: {}'.format(error.shape))\n",
    "   \n",
    "    return J"
   ]
  },
  {
   "cell_type": "markdown",
   "metadata": {},
   "source": [
    "For testing, they have provided a set of trained parameters that we can evaluate."
   ]
  },
  {
   "cell_type": "code",
   "execution_count": 22,
   "metadata": {},
   "outputs": [
    {
     "data": {
      "text/plain": [
       "((1682, 10), (943, 10))"
      ]
     },
     "execution_count": 22,
     "metadata": {},
     "output_type": "execute_result"
    }
   ],
   "source": [
    "params_data = loadmat('ex8/ex8_movieParams.mat')\n",
    "X = params_data['X']\n",
    "Theta = params_data['Theta']\n",
    "X.shape, Theta.shape"
   ]
  },
  {
   "cell_type": "code",
   "execution_count": 23,
   "metadata": {},
   "outputs": [
    {
     "data": {
      "text/plain": [
       "(27,)"
      ]
     },
     "execution_count": 23,
     "metadata": {},
     "output_type": "execute_result"
    }
   ],
   "source": [
    "users = 4\n",
    "movies = 5\n",
    "features = 3\n",
    "\n",
    "X_sub = X[:movies, :features]\n",
    "Theta_sub = Theta[:users, :features]\n",
    "Y_sub = Y[:movies, :users]\n",
    "R_sub = R[:movies, :users]\n",
    "\n",
    "params = np.concatenate((np.ravel(X_sub), np.ravel(Theta_sub)))\n",
    "params.shape"
   ]
  },
  {
   "cell_type": "code",
   "execution_count": 24,
   "metadata": {},
   "outputs": [
    {
     "name": "stdout",
     "output_type": "stream",
     "text": [
      "Shapes :: X: (5, 3); theta: (4, 3); X*theta.T: (5, 4); error: (5, 4)\n"
     ]
    },
    {
     "data": {
      "text/plain": [
       "22.224603725685675"
      ]
     },
     "execution_count": 24,
     "metadata": {},
     "output_type": "execute_result"
    }
   ],
   "source": [
    "cost(params, Y_sub, R_sub, features)"
   ]
  },
  {
   "cell_type": "markdown",
   "metadata": {},
   "source": [
    "Great! This is the same as in `ex8.pdf`."
   ]
  },
  {
   "cell_type": "markdown",
   "metadata": {},
   "source": [
    "Our next step is to implement regularized cost and gradient calculations. "
   ]
  },
  {
   "cell_type": "code",
   "execution_count": 25,
   "metadata": {},
   "outputs": [
    {
     "data": {
      "text/plain": [
       "(31.34405624427422,\n",
       " array([ -0.95596339,   6.97535514,  -0.10861109,   0.60308088,\n",
       "          2.77421145,   0.25839822,   0.12985616,   4.0898522 ,\n",
       "         -0.89247334,   0.29684395,   1.06300933,   0.66738144,\n",
       "          0.60252677,   4.90185327,  -0.19747928, -10.13985478,\n",
       "          2.10136256,  -6.76563628,  -2.29347024,   0.48244098,\n",
       "         -2.99791422,  -0.64787484,  -0.71820673,   1.27006666,\n",
       "          1.09289758,  -0.40784086,   0.49026541]))"
      ]
     },
     "execution_count": 25,
     "metadata": {},
     "output_type": "execute_result"
    }
   ],
   "source": [
    "def Reg_Cost_Grad(params, Y, R, num_features, reg_strength):\n",
    "    Y = np.matrix(Y)  # (1682, 943)\n",
    "    R = np.matrix(R)  # (1682, 943)\n",
    "    num_movies = Y.shape[0]\n",
    "    num_users = Y.shape[1]\n",
    "    \n",
    "    # reshape the parameter array into parameter matrices\n",
    "    X = np.matrix(np.reshape(params[:num_movies * num_features], (num_movies, num_features)))  # (1682, 10)\n",
    "    Theta = np.matrix(np.reshape(params[num_movies * num_features:], (num_users, num_features)))  # (943, 10)\n",
    "    \n",
    "    # initialize\n",
    "    J = 0\n",
    "    X_grad = np.zeros(X.shape)  # (1682, 10)\n",
    "    Theta_grad = np.zeros(Theta.shape)  # (943, 10)\n",
    "    \n",
    "    # compute the cost\n",
    "    error = np.multiply((X * Theta.T) - Y, R)  # (1682, 943)\n",
    "    squared_error = np.power(error, 2)  # (1682, 943)\n",
    "    J = (1. / 2) * np.sum(squared_error)\n",
    "    \n",
    "    # add the cost regularization\n",
    "    J = J + ((reg_strength / 2) * np.sum(np.power(Theta, 2)))\n",
    "    J = J + ((reg_strength / 2) * np.sum(np.power(X, 2)))\n",
    "    \n",
    "    # calculate the gradients with regularization\n",
    "    X_grad = (error * Theta) + (reg_strength * X)\n",
    "    Theta_grad = (error.T * X) + (reg_strength * Theta)\n",
    "    \n",
    "    # unravel the gradient matrices into a single array\n",
    "    grad = np.concatenate((np.ravel(X_grad), np.ravel(Theta_grad)))\n",
    "    \n",
    "    return J, grad\n",
    "\n",
    "J, grad = Reg_Cost_Grad(params, Y_sub, R_sub, features, 1.5)\n",
    "J, grad"
   ]
  },
  {
   "cell_type": "markdown",
   "metadata": {},
   "source": [
    "This agrees with the exercise code, so it looks like the regularization is working. \n",
    "\n",
    "Before we start training, we are first asked to create our own movie ratings so we can use the model to generate personalized recommendations. A file is provided for us that links the movie index to its title. \n",
    "\n",
    "We need to load the file (into a dictionary) and assign the sample ratings provided in the exercise."
   ]
  },
  {
   "cell_type": "code",
   "execution_count": 26,
   "metadata": {},
   "outputs": [
    {
     "data": {
      "text/plain": [
       "'Toy Story (1995)'"
      ]
     },
     "execution_count": 26,
     "metadata": {},
     "output_type": "execute_result"
    }
   ],
   "source": [
    "\n",
    "# in python 3, the unicode will throw an error when it reads this file\n",
    "# crazy annoying bug \n",
    "f = open('ex8/movie_ids.txt','r',encoding='latin-1')  \n",
    "\n",
    "movie_idx = {}\n",
    "\n",
    "for line in f:\n",
    "    tokens = line.split(' ')\n",
    "    tokens[-1] = tokens[-1][:-1]\n",
    "    movie_idx[int(tokens[0]) - 1] = ' '.join(tokens[1:])\n",
    "    \n",
    "f.close() # always close the file!\n",
    "\n",
    "movie_idx[0]"
   ]
  },
  {
   "cell_type": "code",
   "execution_count": 27,
   "metadata": {},
   "outputs": [
    {
     "name": "stdout",
     "output_type": "stream",
     "text": [
      "Rated Clockwork Orange, A (1971) with 4 stars.\n",
      "Rated Don't Be a Menace to South Central While Drinking Your Juice in the Hood (1996) with 1 stars.\n",
      "Rated Replacement Killers, The (1998) with 3 stars.\n",
      "Rated Of Human Bondage (1934) with 3 stars.\n",
      "Rated Chairman of the Board (1998) with 2 stars.\n",
      "Rated Maltese Falcon, The (1941) with 1 stars.\n",
      "Rated Palmetto (1998) with 3 stars.\n",
      "Rated Some Kind of Wonderful (1987) with 4 stars.\n",
      "Rated Man Without a Face, The (1993) with 1 stars.\n",
      "Rated Red Rock West (1992) with 1 stars.\n",
      "Rated Bound (1996) with 1 stars.\n",
      "Rated Unzipped (1995) with 4 stars.\n",
      "Rated Gone Fishin' (1997) with 3 stars.\n",
      "Rated Third Man, The (1949) with 2 stars.\n",
      "Rated Stag (1997) with 2 stars.\n",
      "Rated Private Benjamin (1980) with 4 stars.\n",
      "Rated Shadow of Angels (Schatten der Engel) (1976) with 1 stars.\n",
      "Rated Amityville Horror, The (1979) with 3 stars.\n",
      "Rated Kazaam (1996) with 4 stars.\n",
      "Rated Kicking and Screaming (1995) with 4 stars.\n",
      "Rated Dangerous Ground (1997) with 3 stars.\n",
      "Rated Bananas (1971) with 3 stars.\n",
      "Rated Twin Town (1997) with 3 stars.\n",
      "Rated Herbie Rides Again (1974) with 3 stars.\n",
      "Rated Babysitter, The (1995) with 4 stars.\n",
      "Rated Kiss the Girls (1997) with 4 stars.\n",
      "Rated Laura (1944) with 1 stars.\n",
      "Rated Gattaca (1997) with 2 stars.\n",
      "Rated Amityville II: The Possession (1982) with 4 stars.\n",
      "Rated Two Much (1996) with 3 stars.\n",
      "Rated Haunted World of Edward D. Wood Jr., The (1995) with 3 stars.\n",
      "Rated Bridge on the River Kwai, The (1957) with 3 stars.\n",
      "Rated Party Girl (1995) with 1 stars.\n",
      "Rated Local Hero (1983) with 4 stars.\n",
      "Rated Fille seule, La (A Single Girl) (1995) with 1 stars.\n",
      "Rated Dave (1993) with 1 stars.\n",
      "Rated Tango Lesson, The (1997) with 1 stars.\n",
      "Rated Welcome To Sarajevo (1997) with 1 stars.\n",
      "Rated Ayn Rand: A Sense of Life (1997) with 2 stars.\n",
      "Rated Free Willy (1993) with 4 stars.\n",
      "Rated In the Mouth of Madness (1995) with 3 stars.\n",
      "Rated Laura (1944) with 2 stars.\n",
      "Rated Young Guns (1988) with 3 stars.\n",
      "Rated Harold and Maude (1971) with 4 stars.\n",
      "Rated Dangerous Beauty (1998) with 1 stars.\n",
      "Rated Homeward Bound II: Lost in San Francisco (1996) with 2 stars.\n",
      "Rated Platoon (1986) with 1 stars.\n",
      "Rated Phantoms (1998) with 4 stars.\n",
      "Rated Big Green, The (1995) with 4 stars.\n",
      "Rated Crash (1996) with 1 stars.\n",
      "Rated Sense and Sensibility (1995) with 4 stars.\n",
      "Rated Multiplicity (1996) with 3 stars.\n",
      "Rated Postino, Il (1994) with 1 stars.\n",
      "Rated Guilty as Sin (1993) with 4 stars.\n",
      "Rated Boys Life (1995) with 1 stars.\n",
      "Rated Jack and Sarah (1995) with 1 stars.\n",
      "Rated Cops and Robbersons (1994) with 1 stars.\n",
      "Rated Sabrina (1954) with 2 stars.\n",
      "Rated Jupiter's Wife (1994) with 2 stars.\n",
      "Rated Nothing to Lose (1994) with 1 stars.\n",
      "Rated Trial and Error (1997) with 2 stars.\n",
      "Rated Scream 2 (1997) with 4 stars.\n",
      "Rated Supercop (1992) with 2 stars.\n",
      "Rated Last Time I Committed Suicide, The (1997) with 1 stars.\n",
      "Rated Wooden Man's Bride, The (Wu Kui) (1994) with 3 stars.\n",
      "Rated Candyman: Farewell to the Flesh (1995) with 3 stars.\n",
      "Rated Boys Life (1995) with 1 stars.\n",
      "Rated Twilight (1998) with 1 stars.\n",
      "Rated Swimming with Sharks (1995) with 4 stars.\n",
      "Rated Empire Strikes Back, The (1980) with 2 stars.\n",
      "Rated Murder at 1600 (1997) with 4 stars.\n",
      "Rated Shadow of Angels (Schatten der Engel) (1976) with 1 stars.\n",
      "Rated Legal Deceit (1997) with 3 stars.\n",
      "Rated Chain Reaction (1996) with 3 stars.\n",
      "Rated Saint, The (1997) with 2 stars.\n",
      "Rated Portrait of a Lady, The (1996) with 1 stars.\n",
      "Rated Dangerous Ground (1997) with 1 stars.\n",
      "Rated Oliver & Company (1988) with 4 stars.\n",
      "Rated Two Bits (1995) with 3 stars.\n",
      "Rated From Dusk Till Dawn (1996) with 2 stars.\n",
      "Rated Englishman Who Went Up a Hill, But Came Down a Mountain, The (1995) with 4 stars.\n",
      "Rated Hideaway (1995) with 4 stars.\n",
      "Rated Celestial Clockwork (1994) with 3 stars.\n",
      "Rated Pump Up the Volume (1990) with 1 stars.\n",
      "Rated From Dusk Till Dawn (1996) with 4 stars.\n",
      "Rated Terror in a Texas Town (1958) with 3 stars.\n",
      "Rated Telling Lies in America (1997) with 2 stars.\n",
      "Rated City of Angels (1998) with 4 stars.\n",
      "Rated Victor/Victoria (1982) with 2 stars.\n",
      "Rated Denise Calls Up (1995) with 3 stars.\n",
      "Rated Manon of the Spring (Manon des sources) (1986) with 2 stars.\n",
      "Rated Stupids, The (1996) with 3 stars.\n",
      "Rated Lamerica (1994) with 2 stars.\n",
      "Rated Day the Earth Stood Still, The (1951) with 3 stars.\n",
      "Rated Marvin's Room (1996) with 2 stars.\n",
      "Rated Jackie Brown (1997) with 1 stars.\n",
      "Rated Portrait of a Lady, The (1996) with 4 stars.\n",
      "Rated Babysitter, The (1995) with 4 stars.\n",
      "Rated Portrait of a Lady, The (1996) with 2 stars.\n",
      "Rated Mr. Wonderful (1993) with 1 stars.\n"
     ]
    }
   ],
   "source": [
    "my_ratings = np.zeros((1682, 1))\n",
    "\n",
    "#Let's say I want to rate 100 movies (randomly) on a scale of 1 to 5 (randomly). \n",
    "indices = np.random.randint(0, high=1682, size=100)\n",
    "\n",
    "for i in indices:\n",
    "    my_ratings[i]=np.random.randint(1,high=5)\n",
    "    print('Rated {} with {} stars.'.format(movie_idx[i], str(int(my_ratings[i]))))\n",
    "\n",
    "# this isn't perfect. I'm being lazy here by rating on a random distribution. "
   ]
  },
  {
   "cell_type": "code",
   "execution_count": 29,
   "metadata": {},
   "outputs": [],
   "source": [
    "#add custom data\n",
    "R = raw_data['R']\n",
    "Y = raw_data['Y']\n",
    "\n",
    "Y = np.append(Y, my_ratings, axis=1)\n",
    "R = np.append(R, my_ratings != 0, axis=1)"
   ]
  },
  {
   "cell_type": "markdown",
   "metadata": {},
   "source": [
    "We're now ready to train the collaborative filtering model. We're going to normalize the ratings and then run the optimization routine using our cost function, parameter vector, and data matrices at inputs."
   ]
  },
  {
   "cell_type": "code",
   "execution_count": 30,
   "metadata": {},
   "outputs": [
    {
     "data": {
      "text/plain": [
       "     fun: 39024.85756790169\n",
       "     jac: array([2.28849595e-06, 8.64045566e-07, 5.36109711e-07, ...,\n",
       "       2.19986784e-07, 1.18598025e-06, 2.91169629e-07])\n",
       " message: 'Optimization terminated successfully.'\n",
       "    nfev: 735\n",
       "     nit: 493\n",
       "    njev: 735\n",
       "  status: 0\n",
       " success: True\n",
       "       x: array([-0.13540114, -0.16239788,  0.82414623, ...,  0.04456677,\n",
       "       -0.6783258 , -0.52168155])"
      ]
     },
     "execution_count": 30,
     "metadata": {},
     "output_type": "execute_result"
    }
   ],
   "source": [
    "\n",
    "movies = Y.shape[0]\n",
    "users = Y.shape[1]\n",
    "features = 10\n",
    "learning_rate = 10.\n",
    "\n",
    "X = np.random.random(size=(movies, features))\n",
    "Theta = np.random.random(size=(users, features))\n",
    "params = np.concatenate((np.ravel(X), np.ravel(Theta)))\n",
    "\n",
    "Ymean = np.zeros((movies, 1))\n",
    "Ynorm = np.zeros((movies, users))\n",
    "\n",
    "for i in range(movies):\n",
    "    idx = np.where(R[i,:] == 1)[0]\n",
    "    Ymean[i] = Y[i,idx].mean()\n",
    "    Ynorm[i,idx] = Y[i,idx] - Ymean[i]\n",
    "\n",
    "fmin = minimize(fun=Reg_Cost_Grad, x0=params, args=(Ynorm, R, features, learning_rate), \n",
    "                method='CG', jac=True, options={'maxiter': 1000})\n",
    "fmin"
   ]
  },
  {
   "cell_type": "code",
   "execution_count": 31,
   "metadata": {},
   "outputs": [
    {
     "data": {
      "text/plain": [
       "((1682, 10), (944, 10))"
      ]
     },
     "execution_count": 31,
     "metadata": {},
     "output_type": "execute_result"
    }
   ],
   "source": [
    "X = np.matrix(np.reshape(fmin.x[:movies * features], (movies, features)))\n",
    "Theta = np.matrix(np.reshape(fmin.x[movies * features:], (users, features)))\n",
    "\n",
    "X.shape, Theta.shape\n",
    "#re-roll"
   ]
  },
  {
   "cell_type": "markdown",
   "metadata": {},
   "source": [
    "Our trained parameters are now in $X$ and $\\Theta$. We can use these to create some recommendations for the user we added earlier."
   ]
  },
  {
   "cell_type": "code",
   "execution_count": 32,
   "metadata": {},
   "outputs": [
    {
     "data": {
      "text/plain": [
       "matrix([[5.        ],\n",
       "        [5.        ],\n",
       "        [5.        ],\n",
       "        [5.        ],\n",
       "        [5.        ],\n",
       "        [5.        ],\n",
       "        [5.        ],\n",
       "        [5.        ],\n",
       "        [5.        ],\n",
       "        [5.        ],\n",
       "        [4.50166044],\n",
       "        [4.4539865 ],\n",
       "        [4.4426599 ],\n",
       "        [4.4410207 ],\n",
       "        [4.37002473],\n",
       "        [4.32597216],\n",
       "        [4.25663387],\n",
       "        [4.25199802],\n",
       "        [4.24120317],\n",
       "        [4.24116527]])"
      ]
     },
     "execution_count": 32,
     "metadata": {},
     "output_type": "execute_result"
    }
   ],
   "source": [
    "predictions = X * Theta.T \n",
    "my_preds = predictions[:, -1] + Ymean\n",
    "sorted_preds = np.sort(my_preds, axis=0)[::-1]\n",
    "sorted_preds[:20]"
   ]
  },
  {
   "cell_type": "code",
   "execution_count": 35,
   "metadata": {},
   "outputs": [
    {
     "name": "stdout",
     "output_type": "stream",
     "text": [
      "Top 10 movie predictions:\n",
      "Predicted Rating: 5.00 for \"They Made Me a Criminal (1939)\".\n",
      "Predicted Rating: 5.00 for \"Marlene Dietrich: Shadow and Light (1996) \".\n",
      "Predicted Rating: 5.00 for \"Saint of Fort Washington, The (1993)\".\n",
      "Predicted Rating: 4.99 for \"Great Day in Harlem, A (1994)\".\n",
      "Predicted Rating: 4.99 for \"Entertaining Angels: The Dorothy Day Story (1996)\".\n",
      "Predicted Rating: 4.99 for \"Someone Else's America (1995)\".\n",
      "Predicted Rating: 4.99 for \"Santa with Muscles (1996)\".\n",
      "Predicted Rating: 4.99 for \"Aiqing wansui (1994)\".\n",
      "Predicted Rating: 4.99 for \"Star Kid (1997)\".\n",
      "Predicted Rating: 4.99 for \"Prefontaine (1997)\".\n",
      "Predicted Rating: 4.50 for \"Everest (1998)\".\n",
      "Predicted Rating: 4.45 for \"Some Mother's Son (1996)\".\n",
      "Predicted Rating: 4.44 for \"Anna (1996)\".\n",
      "Predicted Rating: 4.44 for \"Pather Panchali (1955)\".\n",
      "Predicted Rating: 4.37 for \"Bitter Sugar (Azucar Amargo) (1996)\".\n",
      "Predicted Rating: 4.32 for \"Kaspar Hauser (1993)\".\n",
      "Predicted Rating: 4.25 for \"Sound of Music, The (1965)\".\n",
      "Predicted Rating: 4.25 for \"Innocents, The (1961)\".\n",
      "Predicted Rating: 4.24 for \"Maya Lin: A Strong Clear Vision (1994)\".\n",
      "Predicted Rating: 4.24 for \"Crossfire (1947)\".\n",
      "Predicted Rating: 4.23 for \"Sunset Blvd. (1950)\".\n",
      "Predicted Rating: 4.18 for \"Letter From Death Row, A (1998)\".\n",
      "Predicted Rating: 4.13 for \"Paradise Lost: The Child Murders at Robin Hood Hills (1996)\".\n",
      "Predicted Rating: 4.10 for \"Stonewall (1995)\".\n",
      "Predicted Rating: 4.10 for \"Safe (1995)\".\n",
      "Predicted Rating: 4.04 for \"Faust (1994)\".\n",
      "Predicted Rating: 4.03 for \"Once Were Warriors (1994)\".\n",
      "Predicted Rating: 4.02 for \"Fresh (1994)\".\n",
      "Predicted Rating: 4.02 for \"Garden of Finzi-Contini, The (Giardino dei Finzi-Contini, Il) (1970)\".\n",
      "Predicted Rating: 4.01 for \"Whole Wide World, The (1996)\".\n",
      "Predicted Rating: 4.00 for \"Substance of Fire, The (1996)\".\n",
      "Predicted Rating: 4.00 for \"Mamma Roma (1962)\".\n",
      "Predicted Rating: 4.00 for \"Big Bang Theory, The (1994)\".\n",
      "Predicted Rating: 4.00 for \"I Don't Want to Talk About It (De eso no se habla) (1993)\".\n",
      "Predicted Rating: 4.00 for \"Witness (1985)\".\n",
      "Predicted Rating: 4.00 for \"Wings of Courage (1995)\".\n",
      "Predicted Rating: 4.0 for \"Gate of Heavenly Peace, The (1995)\".\n",
      "Predicted Rating: 3.99 for \"Death in Brunswick (1991)\".\n",
      "Predicted Rating: 3.99 for \"Desert Winds (1995)\".\n",
      "Predicted Rating: 3.99 for \"Window to Paris (1994)\".\n",
      "Predicted Rating: 3.99 for \"Brothers in Trouble (1995)\".\n",
      "Predicted Rating: 3.99 for \"He Walked by Night (1948)\".\n",
      "Predicted Rating: 3.99 for \"Object of My Affection, The (1998)\".\n",
      "Predicted Rating: 3.99 for \"Spanish Prisoner, The (1997)\".\n",
      "Predicted Rating: 3.99 for \"Lady of Burlesque (1943)\".\n",
      "Predicted Rating: 3.99 for \"Damsel in Distress, A (1937)\".\n",
      "Predicted Rating: 3.99 for \"Butcher Boy, The (1998)\".\n",
      "Predicted Rating: 3.99 for \"Farmer & Chase (1995)\".\n",
      "Predicted Rating: 3.99 for \"Butcher Boy, The (1998)\".\n",
      "Predicted Rating: 3.99 for \"Killer: A Journal of Murder (1995)\".\n"
     ]
    }
   ],
   "source": [
    "idx = np.argsort(my_preds, axis=0)[::-1]\n",
    "print(\"Top 10 movie predictions:\")\n",
    "for i in range(50):\n",
    "    j = int(idx[i])\n",
    "    print('Predicted Rating: {:.4} for \"{}\".'.format(str(float(my_preds[j])), movie_idx[j]))"
   ]
  },
  {
   "cell_type": "markdown",
   "metadata": {},
   "source": [
    "Cool! We've built a movie recommender system by taking advantage of collaborative filtering. There's certainly many things that could be improved, and validation is of course trickly, but it's a great introduction to collaborative filtering!\n",
    "\n",
    "All done!"
   ]
  },
  {
   "cell_type": "code",
   "execution_count": null,
   "metadata": {},
   "outputs": [],
   "source": []
  }
 ],
 "metadata": {
  "kernelspec": {
   "display_name": "Python 3",
   "language": "python",
   "name": "python3"
  },
  "language_info": {
   "codemirror_mode": {
    "name": "ipython",
    "version": 3
   },
   "file_extension": ".py",
   "mimetype": "text/x-python",
   "name": "python",
   "nbconvert_exporter": "python",
   "pygments_lexer": "ipython3",
   "version": "3.7.2"
  }
 },
 "nbformat": 4,
 "nbformat_minor": 2
}
